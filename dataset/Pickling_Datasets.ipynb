{
 "cells": [
  {
   "cell_type": "code",
   "execution_count": 7,
   "metadata": {
    "collapsed": false
   },
   "outputs": [
    {
     "name": "stdout",
     "output_type": "stream",
     "text": [
      "File is pickled\n"
     ]
    }
   ],
   "source": [
    "import pickle \n",
    "import csv \n",
    "\n",
    "x = [] \n",
    "with open(\"20170827_mawilab_flow_004.csv\",\"rt\") as f:\n",
    "    reader = csv.reader(f)\n",
    "    for line in reader:\n",
    "        x.append(line)\n",
    "        \n",
    "with open(\"20170827_mawilab_flow_004.pkl\",\"wb\") as f: \n",
    "    pickle.dump(x, f, pickle.HIGHEST_PROTOCOL)\n",
    "print(\"File is pickled\")"
   ]
  },
  {
   "cell_type": "code",
   "execution_count": null,
   "metadata": {
    "collapsed": true
   },
   "outputs": [],
   "source": []
  }
 ],
 "metadata": {
  "anaconda-cloud": {},
  "kernelspec": {
   "display_name": "Python [conda env:tensorflow]",
   "language": "python",
   "name": "conda-env-tensorflow-py"
  },
  "language_info": {
   "codemirror_mode": {
    "name": "ipython",
    "version": 3
   },
   "file_extension": ".py",
   "mimetype": "text/x-python",
   "name": "python",
   "nbconvert_exporter": "python",
   "pygments_lexer": "ipython3",
   "version": "3.5.3"
  }
 },
 "nbformat": 4,
 "nbformat_minor": 1
}
