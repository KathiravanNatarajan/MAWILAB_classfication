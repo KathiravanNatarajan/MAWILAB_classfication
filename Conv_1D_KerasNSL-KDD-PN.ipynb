{
 "cells": [
  {
   "cell_type": "code",
   "execution_count": 9,
   "metadata": {
    "collapsed": false
   },
   "outputs": [
    {
     "name": "stdout",
     "output_type": "stream",
     "text": [
      "(11850, 2)\n",
      "(11850, 122, 1)\n",
      "(125973, 2)\n",
      "(125973, 122, 1)\n"
     ]
    }
   ],
   "source": [
    "from __future__ import print_function\n",
    "import numpy as np\n",
    "np.random.seed(1337)  # for reproducibility\n",
    "import time\n",
    "from keras.preprocessing import sequence\n",
    "from keras.models import Sequential\n",
    "from keras.layers import Dense, Dropout, Activation, Lambda\n",
    "from keras.layers import Conv1D,MaxPooling1D, Flatten\n",
    "\n",
    "from keras.utils import multi_gpu_model\n",
    "from keras import backend as K\n",
    "from sklearn.cross_validation import train_test_split\n",
    "import matplotlib\n",
    "matplotlib.use('agg')\n",
    "import pylab as plt\n",
    "import pandas as pd\n",
    "from keras.utils.np_utils import to_categorical\n",
    "from sklearn.preprocessing import Normalizer\n",
    "from keras.utils import np_utils\n",
    "import pickle\n",
    "import h5py\n",
    "\n",
    "# KDD + and - \n",
    "X_testN_ = pd.read_pickle(\"./dataset/kdd_test__2labels.pkl\")\n",
    "X_trainP_ = pd.read_pickle(\"./dataset/kdd_train_2labels.pkl\")\n",
    "Y_trainP_ = X_trainP_.iloc[:, 122:].as_matrix()\n",
    "Y_testN_ = X_testN_.iloc[:, 122:].as_matrix()\n",
    "X_trainP_ = X_trainP_.as_matrix()\n",
    "X_testN_ = X_testN_.as_matrix()\n",
    "scaler1 = Normalizer().fit(X_trainP_[:,:122])\n",
    "X_trainP_ = scaler1.transform(X_trainP_[:,:122])\n",
    "scaler2 = Normalizer().fit(X_testN_[:,:122])\n",
    "X_testN_ = scaler2.transform(X_testN_[:,:122])\n",
    "X_trainP_ = np.reshape(X_trainP_, (X_trainP_.shape[0],X_trainP_.shape[1],1))\n",
    "X_testN_ = np.reshape(X_testN_, (X_testN_.shape[0],X_testN_.shape[1],1))\n",
    "print(Y_testN_.shape)\n",
    "print(X_testN_.shape)\n",
    "print(Y_trainP_.shape)\n",
    "print(X_trainP_.shape)"
   ]
  },
  {
   "cell_type": "code",
   "execution_count": 10,
   "metadata": {
    "collapsed": false
   },
   "outputs": [
    {
     "name": "stdout",
     "output_type": "stream",
     "text": [
      "_________________________________________________________________\n",
      "Layer (type)                 Output Shape              Param #   \n",
      "=================================================================\n",
      "conv1d_2 (Conv1D)            (None, 122, 64)           256       \n",
      "_________________________________________________________________\n",
      "activation_4 (Activation)    (None, 122, 64)           0         \n",
      "_________________________________________________________________\n",
      "max_pooling1d_2 (MaxPooling1 (None, 61, 64)            0         \n",
      "_________________________________________________________________\n",
      "flatten_2 (Flatten)          (None, 3904)              0         \n",
      "_________________________________________________________________\n",
      "dense_3 (Dense)              (None, 128)               499840    \n",
      "_________________________________________________________________\n",
      "activation_5 (Activation)    (None, 128)               0         \n",
      "_________________________________________________________________\n",
      "dropout_2 (Dropout)          (None, 128)               0         \n",
      "_________________________________________________________________\n",
      "dense_4 (Dense)              (None, 2)                 258       \n",
      "_________________________________________________________________\n",
      "activation_6 (Activation)    (None, 2)                 0         \n",
      "=================================================================\n",
      "Total params: 500,354\n",
      "Trainable params: 500,354\n",
      "Non-trainable params: 0\n",
      "_________________________________________________________________\n",
      "None\n"
     ]
    }
   ],
   "source": [
    "cnn1d_1 = Sequential([Conv1D(64, 3, padding=\"same\",input_shape=(122, 1)),\n",
    "    Activation('relu'),\n",
    "    MaxPooling1D(pool_size=2),\n",
    "    Flatten(),\n",
    "    Dense(128),\n",
    "    Activation('relu'),\n",
    "    Dropout(0.5),\n",
    "    Dense(2),\n",
    "    Activation('sigmoid'),\n",
    "])\n",
    "print(cnn1d_1.summary())"
   ]
  },
  {
   "cell_type": "code",
   "execution_count": 11,
   "metadata": {
    "collapsed": false,
    "scrolled": true
   },
   "outputs": [
    {
     "name": "stdout",
     "output_type": "stream",
     "text": [
      "Train on 125973 samples, validate on 11850 samples\n",
      "Epoch 1/25\n",
      "125973/125973 [==============================] - 30s 239us/step - loss: 0.1447 - acc: 0.9477 - val_loss: 1.6933 - val_acc: 0.5634\n",
      "Epoch 2/25\n",
      "125973/125973 [==============================] - 30s 235us/step - loss: 0.0992 - acc: 0.9648 - val_loss: 1.6105 - val_acc: 0.5686\n",
      "Epoch 3/25\n",
      "125973/125973 [==============================] - 30s 236us/step - loss: 0.0853 - acc: 0.9678 - val_loss: 2.0379 - val_acc: 0.5569\n",
      "Epoch 4/25\n",
      "125973/125973 [==============================] - 31s 246us/step - loss: 0.0748 - acc: 0.9721 - val_loss: 2.0530 - val_acc: 0.5703\n",
      "Epoch 5/25\n",
      "125973/125973 [==============================] - 29s 230us/step - loss: 0.0689 - acc: 0.9742 - val_loss: 2.1627 - val_acc: 0.5588\n",
      "Epoch 6/25\n",
      "125973/125973 [==============================] - 29s 233us/step - loss: 0.0617 - acc: 0.9767 - val_loss: 1.9887 - val_acc: 0.5922\n",
      "Epoch 7/25\n",
      "125973/125973 [==============================] - 30s 240us/step - loss: 0.0574 - acc: 0.9781 - val_loss: 1.9251 - val_acc: 0.6008\n",
      "Epoch 8/25\n",
      "125973/125973 [==============================] - 30s 242us/step - loss: 0.0539 - acc: 0.9797 - val_loss: 2.1677 - val_acc: 0.5944\n",
      "Epoch 9/25\n",
      "125973/125973 [==============================] - 30s 239us/step - loss: 0.0509 - acc: 0.9813 - val_loss: 2.4103 - val_acc: 0.5988\n",
      "Epoch 10/25\n",
      "125973/125973 [==============================] - 30s 242us/step - loss: 0.0496 - acc: 0.9818 - val_loss: 2.4820 - val_acc: 0.5938\n",
      "Epoch 11/25\n",
      "125973/125973 [==============================] - 30s 240us/step - loss: 0.0472 - acc: 0.9832 - val_loss: 3.0549 - val_acc: 0.5486\n",
      "Epoch 12/25\n",
      "125973/125973 [==============================] - 30s 242us/step - loss: 0.0462 - acc: 0.9836 - val_loss: 2.4844 - val_acc: 0.5812\n",
      "Epoch 13/25\n",
      "125973/125973 [==============================] - 30s 242us/step - loss: 0.0447 - acc: 0.9845 - val_loss: 2.1199 - val_acc: 0.6022\n",
      "Epoch 14/25\n",
      "125973/125973 [==============================] - 30s 242us/step - loss: 0.0445 - acc: 0.9849 - val_loss: 2.4591 - val_acc: 0.5880\n",
      "Epoch 15/25\n",
      "125973/125973 [==============================] - 30s 242us/step - loss: 0.0432 - acc: 0.9854 - val_loss: 2.3551 - val_acc: 0.5930\n",
      "Epoch 16/25\n",
      "125973/125973 [==============================] - 31s 243us/step - loss: 0.0439 - acc: 0.9851 - val_loss: 2.4629 - val_acc: 0.5839\n",
      "Epoch 17/25\n",
      "125973/125973 [==============================] - 30s 241us/step - loss: 0.0435 - acc: 0.9852 - val_loss: 2.7096 - val_acc: 0.5683\n",
      "Epoch 18/25\n",
      "125973/125973 [==============================] - 30s 242us/step - loss: 0.0426 - acc: 0.9864 - val_loss: 2.2507 - val_acc: 0.5639\n",
      "Epoch 19/25\n",
      "125973/125973 [==============================] - 30s 240us/step - loss: 0.0411 - acc: 0.9869 - val_loss: 2.8214 - val_acc: 0.5506\n",
      "Epoch 20/25\n",
      "125973/125973 [==============================] - 30s 240us/step - loss: 0.0391 - acc: 0.9871 - val_loss: 2.8679 - val_acc: 0.5527\n",
      "Epoch 21/25\n",
      "125973/125973 [==============================] - 30s 240us/step - loss: 0.0389 - acc: 0.9867 - val_loss: 2.4392 - val_acc: 0.5748\n",
      "Epoch 22/25\n",
      "125973/125973 [==============================] - 30s 241us/step - loss: 0.0383 - acc: 0.9874 - val_loss: 3.1343 - val_acc: 0.5587\n",
      "Epoch 23/25\n",
      "125973/125973 [==============================] - 31s 245us/step - loss: 0.0386 - acc: 0.9874 - val_loss: 2.2191 - val_acc: 0.6016\n",
      "Epoch 24/25\n",
      "125973/125973 [==============================] - 29s 232us/step - loss: 0.0378 - acc: 0.9878 - val_loss: 2.8695 - val_acc: 0.5719\n",
      "Epoch 25/25\n",
      "125973/125973 [==============================] - 30s 236us/step - loss: 0.0370 - acc: 0.9882 - val_loss: 2.3638 - val_acc: 0.6039\n",
      "Total time taken to train the Training model is 754.5565567016602\n",
      "Saved model to disk\n"
     ]
    }
   ],
   "source": [
    "#cnn1d_1 = multi_gpu_model(cnn1d_1, gpus=8)\n",
    "cnn1d_1.compile(loss=\"binary_crossentropy\", optimizer=\"adam\",metrics=['accuracy'])\n",
    "# train\n",
    "start_time = time.time()\n",
    "history = cnn1d_1.fit(X_trainP_, Y_trainP_, batch_size=64, validation_data=(X_testN_, Y_testN_) ,epochs=25)\n",
    "end_time = time.time() \n",
    "print(\"Total time taken to train the Training model is\", (end_time - start_time))\n",
    "# serialize model to JSON\n",
    "model_json = cnn1d_1.to_json()\n",
    "with open(\"PN.json\", \"w\") as json_file:\n",
    "    json_file.write(model_json)\n",
    "# serialize weights to HDF5\n",
    "cnn1d_1.save_weights(\"PN.h5\")\n",
    "print(\"Saved model to disk\")\n",
    "plt.plot(history.history['acc'])\n",
    "plt.plot(history.history['val_acc'])\n",
    "plt.title('model accuracy')\n",
    "plt.ylabel('accuracy')\n",
    "plt.xlabel('epoch')\n",
    "plt.legend(['train', 'test'], loc='upper left')\n",
    "plt.show()\n",
    "plt.savefig('Acc_ValaccuaracyPN.png')"
   ]
  },
  {
   "cell_type": "code",
   "execution_count": null,
   "metadata": {
    "collapsed": true
   },
   "outputs": [],
   "source": []
  }
 ],
 "metadata": {
  "anaconda-cloud": {},
  "kernelspec": {
   "display_name": "Python [conda env:tensorflow-cpu]",
   "language": "python",
   "name": "conda-env-tensorflow-cpu-py"
  },
  "language_info": {
   "codemirror_mode": {
    "name": "ipython",
    "version": 3
   },
   "file_extension": ".py",
   "mimetype": "text/x-python",
   "name": "python",
   "nbconvert_exporter": "python",
   "pygments_lexer": "ipython3",
   "version": "3.5.4"
  }
 },
 "nbformat": 4,
 "nbformat_minor": 1
}
