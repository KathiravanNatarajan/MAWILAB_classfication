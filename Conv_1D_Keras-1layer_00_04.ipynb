{
 "cells": [
  {
   "cell_type": "code",
   "execution_count": 5,
   "metadata": {
    "collapsed": false
   },
   "outputs": [],
   "source": [
    "from __future__ import print_function\n",
    "import numpy as np\n",
    "np.random.seed(1337)  # for reproducibility\n",
    "import time\n",
    "from keras.preprocessing import sequence\n",
    "from keras.models import Sequential\n",
    "from keras.layers import Dense, Dropout, Activation, Lambda\n",
    "from keras.layers import Conv1D,MaxPooling1D, Flatten\n",
    "\n",
    "from keras.utils import multi_gpu_model\n",
    "from keras import backend as K\n",
    "from sklearn.cross_validation import train_test_split\n",
    "import matplotlib\n",
    "matplotlib.use('agg')\n",
    "import pylab as plt\n",
    "import pandas as pd\n",
    "from keras.utils.np_utils import to_categorical\n",
    "from sklearn import preprocessing as pp\n",
    "from keras.utils import np_utils\n",
    "ss = pp.StandardScaler()\n",
    "import h5py\n",
    "\n",
    "X_train = np.load(\"20170827_mawilab_flow_000flags_nosvc_features.pkl\")\n",
    "Y_train = np.load(\"20170827_mawilab_flow_000flags_nosvc_labels.pkl\")\n",
    "\n",
    "# Test Set 4: 20170827_mawilab_flow_004\n",
    "X_test4 = np.load(\"20170827_mawilab_flow_004flags_nosvc_features.pkl\")\n",
    "Y_test4 = np.load(\"20170827_mawilab_flow_004flags_nosvc_labels.pkl\")\n",
    "X_train = ss.fit_transform(X_train)\n",
    "X_test4 = ss.fit_transform(X_test4)\n",
    "\n",
    "\n",
    "# reshape input to be [samples, time steps, features]\n",
    "X_train = np.reshape(X_train, (X_train.shape[0],X_train.shape[1],1))\n",
    "X_test4 = np.reshape(X_test4, (X_test4.shape[0],X_test4.shape[1],1))\n"
   ]
  },
  {
   "cell_type": "code",
   "execution_count": 6,
   "metadata": {
    "collapsed": false
   },
   "outputs": [
    {
     "name": "stdout",
     "output_type": "stream",
     "text": [
      "_________________________________________________________________\n",
      "Layer (type)                 Output Shape              Param #   \n",
      "=================================================================\n",
      "conv1d_2 (Conv1D)            (None, 15, 64)            256       \n",
      "_________________________________________________________________\n",
      "activation_4 (Activation)    (None, 15, 64)            0         \n",
      "_________________________________________________________________\n",
      "max_pooling1d_2 (MaxPooling1 (None, 7, 64)             0         \n",
      "_________________________________________________________________\n",
      "flatten_2 (Flatten)          (None, 448)               0         \n",
      "_________________________________________________________________\n",
      "dense_3 (Dense)              (None, 128)               57472     \n",
      "_________________________________________________________________\n",
      "activation_5 (Activation)    (None, 128)               0         \n",
      "_________________________________________________________________\n",
      "dropout_2 (Dropout)          (None, 128)               0         \n",
      "_________________________________________________________________\n",
      "dense_4 (Dense)              (None, 2)                 258       \n",
      "_________________________________________________________________\n",
      "activation_6 (Activation)    (None, 2)                 0         \n",
      "=================================================================\n",
      "Total params: 57,986\n",
      "Trainable params: 57,986\n",
      "Non-trainable params: 0\n",
      "_________________________________________________________________\n",
      "None\n"
     ]
    }
   ],
   "source": [
    "cnn1d_1 = Sequential([Conv1D(64, 3, padding=\"same\",input_shape=(15, 1)),\n",
    "    Activation('relu'),\n",
    "    MaxPooling1D(pool_size=2),\n",
    "    Flatten(),\n",
    "    Dense(128),\n",
    "    Activation('relu'),\n",
    "    Dropout(0.5),\n",
    "    Dense(2),\n",
    "    Activation('sigmoid'),\n",
    "])\n",
    "print(cnn1d_1.summary())"
   ]
  },
  {
   "cell_type": "code",
   "execution_count": 7,
   "metadata": {
    "collapsed": false,
    "scrolled": true
   },
   "outputs": [
    {
     "name": "stdout",
     "output_type": "stream",
     "text": [
      "Train on 38361 samples, validate on 42599 samples\n",
      "Epoch 1/10\n",
      "38361/38361 [==============================] - 11s 274us/step - loss: 0.4807 - acc: 0.7038 - val_loss: 0.4748 - val_acc: 0.7257\n",
      "Epoch 2/10\n",
      "38361/38361 [==============================] - 9s 230us/step - loss: 0.4634 - acc: 0.7168 - val_loss: 0.4700 - val_acc: 0.7248\n",
      "Epoch 3/10\n",
      "38361/38361 [==============================] - 9s 229us/step - loss: 0.4599 - acc: 0.7189 - val_loss: 0.4686 - val_acc: 0.7303\n",
      "Epoch 4/10\n",
      "38361/38361 [==============================] - 9s 228us/step - loss: 0.4561 - acc: 0.7247 - val_loss: 0.4669 - val_acc: 0.7361\n",
      "Epoch 5/10\n",
      "38361/38361 [==============================] - 9s 226us/step - loss: 0.4537 - acc: 0.7260 - val_loss: 0.4618 - val_acc: 0.7345\n",
      "Epoch 6/10\n",
      "38361/38361 [==============================] - 9s 225us/step - loss: 0.4518 - acc: 0.7275 - val_loss: 0.4637 - val_acc: 0.7343\n",
      "Epoch 7/10\n",
      "38361/38361 [==============================] - 9s 230us/step - loss: 0.4511 - acc: 0.7294 - val_loss: 0.4681 - val_acc: 0.7271\n",
      "Epoch 8/10\n",
      "38361/38361 [==============================] - 9s 227us/step - loss: 0.4482 - acc: 0.7288 - val_loss: 0.4736 - val_acc: 0.7216\n",
      "Epoch 9/10\n",
      "38361/38361 [==============================] - 9s 229us/step - loss: 0.4467 - acc: 0.7297 - val_loss: 0.4748 - val_acc: 0.7143\n",
      "Epoch 10/10\n",
      "38361/38361 [==============================] - 9s 233us/step - loss: 0.4444 - acc: 0.7309 - val_loss: 0.4742 - val_acc: 0.7180\n",
      "Total time taken to train the Training model is 90.39688396453857\n",
      "Saved model to disk\n"
     ]
    }
   ],
   "source": [
    "#cnn1d_1 = multi_gpu_model(cnn1d_1, gpus=8)\n",
    "cnn1d_1.compile(loss=\"binary_crossentropy\", optimizer=\"adam\",metrics=['accuracy'])\n",
    "# train\n",
    "start_time = time.time()\n",
    "history = cnn1d_1.fit(X_train, Y_train, batch_size=64, validation_data=(X_test4, Y_test4) ,epochs=10)\n",
    "end_time = time.time() \n",
    "print(\"Total time taken to train the Training model is\", (end_time - start_time))\n",
    "# serialize model to JSON\n",
    "model_json = cnn1d_1.to_json()\n",
    "with open(\"20170827_mawilab_flow_000.json\", \"w\") as json_file:\n",
    "    json_file.write(model_json)\n",
    "# serialize weights to HDF5\n",
    "cnn1d_1.save_weights(\"20170827_mawilab_flow_000.h5\")\n",
    "print(\"Saved model to disk\")\n",
    "plt.plot(history.history['acc'])\n",
    "plt.plot(history.history['val_acc'])\n",
    "plt.title('model accuracy')\n",
    "plt.ylabel('accuracy')\n",
    "plt.xlabel('epoch')\n",
    "plt.legend(['train', 'test'], loc='upper left')\n",
    "plt.show()\n",
    "plt.savefig('Acc_Valaccuaracy00_04.png')"
   ]
  },
  {
   "cell_type": "code",
   "execution_count": 8,
   "metadata": {
    "collapsed": false
   },
   "outputs": [
    {
     "name": "stdout",
     "output_type": "stream",
     "text": [
      "[[0.49133295 0.5085724 ]\n",
      " [0.00211486 0.9978756 ]\n",
      " [0.48837224 0.51152885]\n",
      " ...\n",
      " [0.49133295 0.5085724 ]\n",
      " [0.13596667 0.86297464]\n",
      " [0.62633777 0.37177184]]\n",
      "[1 1 1 ... 1 1 0]\n",
      "[1 1 1 ... 1 1 0]\n",
      "             precision    recall  f1-score   support\n",
      "\n",
      "     normal     0.5278    0.3003    0.3828     12411\n",
      "    anomaly     0.7556    0.8895    0.8171     30188\n",
      "\n",
      "avg / total     0.6892    0.7179    0.6906     42599\n",
      "\n",
      "[[ 3727  8684]\n",
      " [ 3335 26853]]\n",
      "0.5999592057876042\n",
      "0.7178572266954624\n",
      "0.6905876377550433\n",
      "[0.38278642 0.81713199]\n"
     ]
    }
   ],
   "source": [
    "from sklearn.metrics import classification_report, confusion_matrix\n",
    "from sklearn.metrics import f1_score\n",
    "y_pred = cnn1d_1.predict(X_test4)\n",
    "print(y_pred)\n",
    "y_pred = np.argmax(y_pred, axis=1)\n",
    "print(y_pred)\n",
    "\n",
    "y_pred = cnn1d_1.predict_classes(X_test4)\n",
    "print(y_pred)\n",
    "\n",
    "p=cnn1d_1.predict_proba(X_test4)\n",
    "\n",
    "target_names = ['normal', 'anomaly']\n",
    "print(classification_report(np.argmax(Y_test4, axis=1), y_pred, target_names=target_names, digits=4))\n",
    "print(confusion_matrix(np.argmax(Y_test4, axis=1), y_pred))\n",
    "Y_test4 = np.argmax(Y_test4, axis=1)\n",
    "\n",
    "print(f1_score(Y_test4, y_pred, average='macro'))\n",
    "\n",
    "print(f1_score(Y_test4, y_pred, average='micro'))\n",
    "\n",
    "print(f1_score(Y_test4, y_pred, average='weighted'))\n",
    "\n",
    "print(f1_score(Y_test4, y_pred, average=None))"
   ]
  }
 ],
 "metadata": {
  "anaconda-cloud": {},
  "kernelspec": {
   "display_name": "Python [conda env:tensorflow-cpu]",
   "language": "python",
   "name": "conda-env-tensorflow-cpu-py"
  },
  "language_info": {
   "codemirror_mode": {
    "name": "ipython",
    "version": 3
   },
   "file_extension": ".py",
   "mimetype": "text/x-python",
   "name": "python",
   "nbconvert_exporter": "python",
   "pygments_lexer": "ipython3",
   "version": "3.5.4"
  }
 },
 "nbformat": 4,
 "nbformat_minor": 1
}
