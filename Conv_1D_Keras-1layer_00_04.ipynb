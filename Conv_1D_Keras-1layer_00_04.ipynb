{
 "cells": [
  {
   "cell_type": "code",
   "execution_count": 1,
   "metadata": {
    "collapsed": false
   },
   "outputs": [
    {
     "name": "stderr",
     "output_type": "stream",
     "text": [
      "C:\\Anaconda\\envs\\tensorflow-cpu\\lib\\site-packages\\h5py\\__init__.py:36: FutureWarning: Conversion of the second argument of issubdtype from `float` to `np.floating` is deprecated. In future, it will be treated as `np.float64 == np.dtype(float).type`.\n",
      "  from ._conv import register_converters as _register_converters\n",
      "Using TensorFlow backend.\n",
      "C:\\Anaconda\\envs\\tensorflow-cpu\\lib\\site-packages\\sklearn\\cross_validation.py:41: DeprecationWarning: This module was deprecated in version 0.18 in favor of the model_selection module into which all the refactored classes and functions are moved. Also note that the interface of the new CV iterators are different from that of this module. This module will be removed in 0.20.\n",
      "  \"This module will be removed in 0.20.\", DeprecationWarning)\n"
     ]
    }
   ],
   "source": [
    "from __future__ import print_function\n",
    "import numpy as np\n",
    "np.random.seed(1337)  # for reproducibility\n",
    "import time\n",
    "from keras.preprocessing import sequence\n",
    "from keras.models import Sequential\n",
    "from keras.layers import Dense, Dropout, Activation, Lambda\n",
    "from keras.layers import Conv1D,MaxPooling1D, Flatten\n",
    "\n",
    "from keras.utils import multi_gpu_model\n",
    "from keras import backend as K\n",
    "from sklearn.cross_validation import train_test_split\n",
    "import matplotlib\n",
    "matplotlib.use('agg')\n",
    "import pylab as plt\n",
    "import pandas as pd\n",
    "from keras.utils.np_utils import to_categorical\n",
    "from sklearn.preprocessing import Normalizer\n",
    "from keras.utils import np_utils\n",
    "\n",
    "import h5py\n",
    "\n",
    "X_train = np.load(\"20170827_mawilab_flow_000features.pkl\")\n",
    "Y_train = np.load(\"20170827_mawilab_flow_000labels.pkl\")\n",
    "\n",
    "scaler = Normalizer().fit(X_train)\n",
    "X_train = scaler.transform(X_train)\n",
    "scaler = Normalizer().fit(Y_train)\n",
    "Y_train = scaler.transform(Y_train)\n",
    "\n",
    "# Test Set 1 : 20170827_mawilab_flow_001\n",
    "X_test1 = np.load(\"20170827_mawilab_flow_001features.pkl\")\n",
    "Y_test1 = np.load(\"20170827_mawilab_flow_001labels.pkl\")\n",
    "\n",
    "\n",
    "# Test Set 2 : 20170827_mawilab_flow_002\n",
    "X_test2 = np.load(\"20170827_mawilab_flow_002features.pkl\")\n",
    "Y_test2 = np.load(\"20170827_mawilab_flow_002labels.pkl\")\n",
    "\n",
    "\n",
    "# Test Set 3 : 20170827_mawilab_flow_003\n",
    "X_test3 = np.load(\"20170827_mawilab_flow_003features.pkl\")\n",
    "Y_test3 = np.load(\"20170827_mawilab_flow_003labels.pkl\")\n",
    "\n",
    "\n",
    "# Test Set 4: 20170827_mawilab_flow_004\n",
    "X_test4 = np.load(\"20170827_mawilab_flow_004features.pkl\")\n",
    "Y_test4 = np.load(\"20170827_mawilab_flow_004labels.pkl\")\n",
    "\n",
    "# reshape input to be [samples, time steps, features]\n",
    "X_train = np.reshape(X_train, (X_train.shape[0],X_train.shape[1],1))\n",
    "X_test1 = np.reshape(X_test1, (X_test1.shape[0],X_test1.shape[1],1))\n",
    "X_test2 = np.reshape(X_test2, (X_test2.shape[0],X_test2.shape[1],1))\n",
    "X_test3 = np.reshape(X_test3, (X_test3.shape[0],X_test3.shape[1],1))\n",
    "X_test4 = np.reshape(X_test4, (X_test4.shape[0],X_test4.shape[1],1))\n"
   ]
  },
  {
   "cell_type": "code",
   "execution_count": 2,
   "metadata": {
    "collapsed": false
   },
   "outputs": [
    {
     "name": "stdout",
     "output_type": "stream",
     "text": [
      "WARNING:tensorflow:From C:\\Anaconda\\envs\\tensorflow-cpu\\lib\\site-packages\\tensorflow\\python\\util\\deprecation.py:497: calling conv1d (from tensorflow.python.ops.nn_ops) with data_format=NHWC is deprecated and will be removed in a future version.\n",
      "Instructions for updating:\n",
      "`NHWC` for data_format is deprecated, use `NWC` instead\n",
      "_________________________________________________________________\n",
      "Layer (type)                 Output Shape              Param #   \n",
      "=================================================================\n",
      "conv1d_1 (Conv1D)            (None, 16, 64)            256       \n",
      "_________________________________________________________________\n",
      "activation_1 (Activation)    (None, 16, 64)            0         \n",
      "_________________________________________________________________\n",
      "max_pooling1d_1 (MaxPooling1 (None, 8, 64)             0         \n",
      "_________________________________________________________________\n",
      "flatten_1 (Flatten)          (None, 512)               0         \n",
      "_________________________________________________________________\n",
      "dense_1 (Dense)              (None, 128)               65664     \n",
      "_________________________________________________________________\n",
      "activation_2 (Activation)    (None, 128)               0         \n",
      "_________________________________________________________________\n",
      "dropout_1 (Dropout)          (None, 128)               0         \n",
      "_________________________________________________________________\n",
      "dense_2 (Dense)              (None, 2)                 258       \n",
      "_________________________________________________________________\n",
      "activation_3 (Activation)    (None, 2)                 0         \n",
      "=================================================================\n",
      "Total params: 66,178\n",
      "Trainable params: 66,178\n",
      "Non-trainable params: 0\n",
      "_________________________________________________________________\n",
      "None\n"
     ]
    }
   ],
   "source": [
    "cnn1d_1 = Sequential([Conv1D(64, 3, padding=\"same\",input_shape=(16, 1)),\n",
    "    Activation('relu'),\n",
    "    MaxPooling1D(pool_size=2),\n",
    "    Flatten(),\n",
    "    Dense(128),\n",
    "    Activation('relu'),\n",
    "    Dropout(0.5),\n",
    "    Dense(2),\n",
    "    Activation('sigmoid'),\n",
    "])\n",
    "print(cnn1d_1.summary())"
   ]
  },
  {
   "cell_type": "code",
   "execution_count": 3,
   "metadata": {
    "collapsed": false,
    "scrolled": true
   },
   "outputs": [
    {
     "name": "stdout",
     "output_type": "stream",
     "text": [
      "Train on 38361 samples, validate on 42599 samples\n",
      "Epoch 1/25\n",
      "38361/38361 [==============================] - 3s 75us/step - loss: 0.5290 - acc: 0.6997 - val_loss: 4.1738 - val_acc: 0.7166\n",
      "Epoch 2/25\n",
      "38361/38361 [==============================] - 2s 60us/step - loss: 0.4740 - acc: 0.7143 - val_loss: 4.2965 - val_acc: 0.7254\n",
      "Epoch 3/25\n",
      "38361/38361 [==============================] - 2s 59us/step - loss: 0.4677 - acc: 0.7244 - val_loss: 4.3399 - val_acc: 0.7236\n",
      "Epoch 4/25\n",
      "38361/38361 [==============================] - 2s 59us/step - loss: 0.4620 - acc: 0.7272 - val_loss: 4.0378 - val_acc: 0.7422\n",
      "Epoch 5/25\n",
      "38361/38361 [==============================] - 2s 59us/step - loss: 0.4577 - acc: 0.7302 - val_loss: 4.3149 - val_acc: 0.7221\n",
      "Epoch 6/25\n",
      "38361/38361 [==============================] - 2s 59us/step - loss: 0.4519 - acc: 0.7333 - val_loss: 4.1453 - val_acc: 0.7407\n",
      "Epoch 7/25\n",
      "38361/38361 [==============================] - 2s 59us/step - loss: 0.4475 - acc: 0.7358 - val_loss: 4.1701 - val_acc: 0.7381\n",
      "Epoch 8/25\n",
      "38361/38361 [==============================] - 2s 59us/step - loss: 0.4438 - acc: 0.7395 - val_loss: 4.0699 - val_acc: 0.7371\n",
      "Epoch 9/25\n",
      "38361/38361 [==============================] - 2s 59us/step - loss: 0.4431 - acc: 0.7399 - val_loss: 4.1153 - val_acc: 0.7422\n",
      "Epoch 10/25\n",
      "38361/38361 [==============================] - 2s 59us/step - loss: 0.4397 - acc: 0.7429 - val_loss: 4.1313 - val_acc: 0.7421\n",
      "Epoch 11/25\n",
      "38361/38361 [==============================] - 2s 59us/step - loss: 0.4370 - acc: 0.7452 - val_loss: 4.0358 - val_acc: 0.7433\n",
      "Epoch 12/25\n",
      "38361/38361 [==============================] - 2s 60us/step - loss: 0.4359 - acc: 0.7498 - val_loss: 4.1122 - val_acc: 0.7425\n",
      "Epoch 13/25\n",
      "38361/38361 [==============================] - 2s 59us/step - loss: 0.4359 - acc: 0.7459 - val_loss: 4.0695 - val_acc: 0.7446\n",
      "Epoch 14/25\n",
      "38361/38361 [==============================] - 2s 59us/step - loss: 0.4320 - acc: 0.7504 - val_loss: 4.1061 - val_acc: 0.7429\n",
      "Epoch 15/25\n",
      "38361/38361 [==============================] - 2s 60us/step - loss: 0.4319 - acc: 0.7486 - val_loss: 4.1093 - val_acc: 0.7431\n",
      "Epoch 16/25\n",
      "38361/38361 [==============================] - 2s 59us/step - loss: 0.4323 - acc: 0.7467 - val_loss: 4.1034 - val_acc: 0.7434\n",
      "Epoch 17/25\n",
      "38361/38361 [==============================] - 2s 59us/step - loss: 0.4289 - acc: 0.7470 - val_loss: 4.0947 - val_acc: 0.7438\n",
      "Epoch 18/25\n",
      "38361/38361 [==============================] - 2s 59us/step - loss: 0.4289 - acc: 0.7474 - val_loss: 4.0938 - val_acc: 0.7436\n",
      "Epoch 19/25\n",
      "38361/38361 [==============================] - 2s 60us/step - loss: 0.4275 - acc: 0.7470 - val_loss: 4.1027 - val_acc: 0.7434\n",
      "Epoch 20/25\n",
      "38361/38361 [==============================] - 2s 60us/step - loss: 0.4273 - acc: 0.7478 - val_loss: 4.0752 - val_acc: 0.7449\n",
      "Epoch 21/25\n",
      "38361/38361 [==============================] - 2s 57us/step - loss: 0.4269 - acc: 0.7463 - val_loss: 4.1020 - val_acc: 0.7434\n",
      "Epoch 22/25\n",
      "38361/38361 [==============================] - 2s 59us/step - loss: 0.4280 - acc: 0.7476 - val_loss: 4.0923 - val_acc: 0.7443\n",
      "Epoch 23/25\n",
      "38361/38361 [==============================] - 2s 59us/step - loss: 0.4258 - acc: 0.7479 - val_loss: 4.0887 - val_acc: 0.7445\n",
      "Epoch 24/25\n",
      "38361/38361 [==============================] - 2s 57us/step - loss: 0.4248 - acc: 0.7479 - val_loss: 4.0911 - val_acc: 0.7442\n",
      "Epoch 25/25\n",
      "38361/38361 [==============================] - 2s 57us/step - loss: 0.4241 - acc: 0.7480 - val_loss: 4.0941 - val_acc: 0.7441\n",
      "Total time taken to train the Training model is 57.38460659980774\n",
      "Saved model to disk\n"
     ]
    }
   ],
   "source": [
    "#cnn1d_1 = multi_gpu_model(cnn1d_1, gpus=8)\n",
    "cnn1d_1.compile(loss=\"binary_crossentropy\", optimizer=\"adam\",metrics=['accuracy'])\n",
    "# train\n",
    "start_time = time.time()\n",
    "history = cnn1d_1.fit(X_train, Y_train, batch_size=64, validation_data=(X_test4, Y_test4) ,epochs=25)\n",
    "end_time = time.time() \n",
    "print(\"Total time taken to train the Training model is\", (end_time - start_time))\n",
    "# serialize model to JSON\n",
    "model_json = cnn1d_1.to_json()\n",
    "with open(\"20170827_mawilab_flow_000.json\", \"w\") as json_file:\n",
    "    json_file.write(model_json)\n",
    "# serialize weights to HDF5\n",
    "cnn1d_1.save_weights(\"20170827_mawilab_flow_000.h5\")\n",
    "print(\"Saved model to disk\")\n",
    "plt.plot(history.history['acc'])\n",
    "plt.plot(history.history['val_acc'])\n",
    "plt.title('model accuracy')\n",
    "plt.ylabel('accuracy')\n",
    "plt.xlabel('epoch')\n",
    "plt.legend(['train', 'test'], loc='upper left')\n",
    "plt.show()\n",
    "plt.savefig('Acc_Valaccuaracy00_04.png')"
   ]
  },
  {
   "cell_type": "code",
   "execution_count": null,
   "metadata": {
    "collapsed": true
   },
   "outputs": [],
   "source": []
  }
 ],
 "metadata": {
  "anaconda-cloud": {},
  "kernelspec": {
   "display_name": "Python [conda env:tensorflow-cpu]",
   "language": "python",
   "name": "conda-env-tensorflow-cpu-py"
  },
  "language_info": {
   "codemirror_mode": {
    "name": "ipython",
    "version": 3
   },
   "file_extension": ".py",
   "mimetype": "text/x-python",
   "name": "python",
   "nbconvert_exporter": "python",
   "pygments_lexer": "ipython3",
   "version": "3.5.4"
  }
 },
 "nbformat": 4,
 "nbformat_minor": 1
}
