{
 "cells": [
  {
   "cell_type": "code",
   "execution_count": 35,
   "metadata": {
    "collapsed": false
   },
   "outputs": [],
   "source": [
    "import tensorflow as tf\n",
    "import numpy as np\n",
    "import pandas as pd \n",
    "import math\n",
    "from sklearn.utils import shuffle\n",
    "\n",
    "def load_data(filename):\n",
    "    df = pd.read_csv(filename,sep=',')\n",
    "    filename = filename.split('.')[0]\n",
    "    print(filename)\n",
    "    df.fillna(0, inplace=True) \n",
    "    df.loc[:, 'U'] = pd.Series(np.zeros(df.shape[0]),dtype='int8')\n",
    "    df.loc[:, 'N'] = pd.Series(np.zeros(df.shape[0]),dtype='int8')\n",
    "    new_flag_df = df['flags'].to_frame()\n",
    "    new_flag_df = new_flag_df['flags'].str.get_dummies(' ')\n",
    "    \"\"\"\n",
    "    1. Pro\n",
    "    2. Packets\n",
    "    3. Bytes\n",
    "    4. Flags\n",
    "    5. Durat\n",
    "    6. Records\n",
    "    7. svc_port - combination of sPort and dPort\n",
    "\n",
    "    v = np.minimum(df['sPort'], df['dPort'])\n",
    "    df['svc_port'] = np.where(v <= 1024, v, df['dPort'])\n",
    "    \"\"\"\n",
    "    df['svc_port'] = df.apply(lambda x : min(x['sPort'],x['dPort']) if min(x['sPort'],x['dPort']) <= 1024 else x['dPort'], axis=1)\n",
    "    \n",
    "    if 'Records' in df:\n",
    "        df = df.loc[:,('pro', 'packets', 'bytes', 'svc_port', 'durat','U','N', 'Records')]\n",
    "        mawii_labels = pd.get_dummies(df['Records'],prefix='',prefix_sep='')\n",
    "        new_df = df.drop(['Records'], axis=1)\n",
    "    else:\n",
    "        df = df.loc[:,('pro', 'packets', 'bytes', 'svc_port', 'durat','U','N', 'status')]\n",
    "        mawii_labels = pd.get_dummies(df['status'],prefix='',prefix_sep='')\n",
    "        new_df = df.drop(['status'], axis=1)\n",
    "        \n",
    "    mawii_features = pd.concat([new_df, new_flag_df], axis=1)\n",
    "    total_df = pd.concat([mawii_features, mawii_labels], axis=1)\n",
    "    shuffle_df = shuffle(total_df)\n",
    "    file_name_labels = shuffle_df[['anomaly', 'normal']]\n",
    "    file_name_features = shuffle_df.drop(file_name_labels, axis = 1)\n",
    "    file_name_labels = file_name_labels[:int(len(file_name_labels) * 0.1)].as_matrix()\n",
    "    file_name_features = file_name_features[:int(len(file_name_features) * 0.1)].as_matrix()\n",
    "    file_name_features.dump(filename+\"features.pkl\")\n",
    "    file_name_labels.dump(filename+\"labels.pkl\")\n",
    "    print(file_name_features.shape)\n",
    "    print(file_name_labels.shape)"
   ]
  },
  {
   "cell_type": "code",
   "execution_count": 36,
   "metadata": {
    "collapsed": false
   },
   "outputs": [
    {
     "name": "stdout",
     "output_type": "stream",
     "text": [
      "20170827_mawilab_flow_000\n",
      "(38361, 16)\n",
      "(38361, 2)\n",
      "20170827_mawilab_flow_001\n",
      "(40780, 16)\n",
      "(40780, 2)\n",
      "20170827_mawilab_flow_002\n",
      "(47265, 16)\n",
      "(47265, 2)\n",
      "20170827_mawilab_flow_003\n",
      "(42398, 16)\n",
      "(42398, 2)\n",
      "20170827_mawilab_flow_004\n",
      "(42599, 16)\n",
      "(42599, 2)\n"
     ]
    }
   ],
   "source": [
    "load_data(\"20170827_mawilab_flow_000.csv\")\n",
    "load_data(\"20170827_mawilab_flow_001.csv\")\n",
    "load_data(\"20170827_mawilab_flow_002.csv\")\n",
    "load_data(\"20170827_mawilab_flow_003.csv\")\n",
    "load_data(\"20170827_mawilab_flow_004.csv\")"
   ]
  },
  {
   "cell_type": "code",
   "execution_count": null,
   "metadata": {
    "collapsed": true
   },
   "outputs": [],
   "source": []
  }
 ],
 "metadata": {
  "anaconda-cloud": {},
  "kernelspec": {
   "display_name": "Python [conda env:tensorflow]",
   "language": "python",
   "name": "conda-env-tensorflow-py"
  },
  "language_info": {
   "codemirror_mode": {
    "name": "ipython",
    "version": 3
   },
   "file_extension": ".py",
   "mimetype": "text/x-python",
   "name": "python",
   "nbconvert_exporter": "python",
   "pygments_lexer": "ipython3",
   "version": "3.5.3"
  }
 },
 "nbformat": 4,
 "nbformat_minor": 1
}
