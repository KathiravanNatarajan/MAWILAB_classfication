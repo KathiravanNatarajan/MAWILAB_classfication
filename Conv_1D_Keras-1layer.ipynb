{
 "cells": [
  {
   "cell_type": "code",
   "execution_count": 1,
   "metadata": {
    "collapsed": false
   },
   "outputs": [
    {
     "name": "stderr",
     "output_type": "stream",
     "text": [
      "C:\\Anaconda\\envs\\GPU\\lib\\site-packages\\h5py\\__init__.py:36: FutureWarning: Conversion of the second argument of issubdtype from `float` to `np.floating` is deprecated. In future, it will be treated as `np.float64 == np.dtype(float).type`.\n",
      "  from ._conv import register_converters as _register_converters\n",
      "Using TensorFlow backend.\n",
      "C:\\Anaconda\\envs\\GPU\\lib\\site-packages\\sklearn\\cross_validation.py:44: DeprecationWarning: This module was deprecated in version 0.18 in favor of the model_selection module into which all the refactored classes and functions are moved. Also note that the interface of the new CV iterators are different from that of this module. This module will be removed in 0.20.\n",
      "  \"This module will be removed in 0.20.\", DeprecationWarning)\n",
      "C:\\Anaconda\\envs\\GPU\\lib\\site-packages\\sklearn\\utils\\validation.py:429: DataConversionWarning: Data with input dtype uint8 was converted to float64 by the normalize function.\n",
      "  warnings.warn(msg, _DataConversionWarning)\n"
     ]
    }
   ],
   "source": [
    "from __future__ import print_function\n",
    "import numpy as np\n",
    "np.random.seed(1337)  # for reproducibility\n",
    "import time\n",
    "from keras.preprocessing import sequence\n",
    "from keras.models import Sequential\n",
    "from keras.layers import Dense, Dropout, Activation, Lambda\n",
    "from keras.layers import Conv1D,MaxPooling1D, Flatten\n",
    "\n",
    "from keras.utils import multi_gpu_model\n",
    "from keras import backend as K\n",
    "from sklearn.cross_validation import train_test_split\n",
    "\n",
    "import pandas as pd\n",
    "from keras.utils.np_utils import to_categorical\n",
    "from sklearn.preprocessing import Normalizer\n",
    "from keras.utils import np_utils\n",
    "\n",
    "import h5py\n",
    "\n",
    "X_train = np.load(\"20170827_mawilab_flow_000features.pkl\")\n",
    "Y_train = np.load(\"20170827_mawilab_flow_000labels.pkl\")\n",
    "\n",
    "scaler = Normalizer().fit(X_train)\n",
    "X_train = scaler.transform(X_train)\n",
    "scaler = Normalizer().fit(Y_train)\n",
    "Y_train = scaler.transform(Y_train)\n",
    "\n",
    "# Test Set 1 : 20170827_mawilab_flow_001\n",
    "X_test1 = np.load(\"20170827_mawilab_flow_001features.pkl\")\n",
    "Y_test1 = np.load(\"20170827_mawilab_flow_001labels.pkl\")\n",
    "scaler = Normalizer().fit(X_test1)\n",
    "X_test1 = scaler.transform(X_test1)\n",
    "scaler = Normalizer().fit(Y_test1)\n",
    "Y_test1 = scaler.transform(Y_test1)\n",
    "\n",
    "# Test Set 2 : 20170827_mawilab_flow_002\n",
    "X_test2 = np.load(\"20170827_mawilab_flow_002features.pkl\")\n",
    "Y_test2 = np.load(\"20170827_mawilab_flow_002labels.pkl\")\n",
    "scaler = Normalizer().fit(X_test2)\n",
    "X_test2 = scaler.transform(X_test2)\n",
    "scaler = Normalizer().fit(Y_test2)\n",
    "Y_test2 = scaler.transform(Y_test2)\n",
    "\n",
    "# Test Set 3 : 20170827_mawilab_flow_003\n",
    "X_test3 = np.load(\"20170827_mawilab_flow_003features.pkl\")\n",
    "Y_test3 = np.load(\"20170827_mawilab_flow_003labels.pkl\")\n",
    "scaler = Normalizer().fit(X_test3)\n",
    "X_test3 = scaler.transform(X_test3)\n",
    "scaler = Normalizer().fit(Y_test3)\n",
    "Y_test3 = scaler.transform(Y_test3)\n",
    "\n",
    "# Test Set 4: 20170827_mawilab_flow_004\n",
    "X_test4 = np.load(\"20170827_mawilab_flow_004features.pkl\")\n",
    "Y_test4 = np.load(\"20170827_mawilab_flow_004labels.pkl\")\n",
    "scaler = Normalizer().fit(X_test4)\n",
    "X_test4 = scaler.transform(X_test4)\n",
    "scaler = Normalizer().fit(Y_test4)\n",
    "Y_test4 = scaler.transform(Y_test4)\n",
    "\n",
    "# reshape input to be [samples, time steps, features]\n",
    "X_train = np.reshape(X_train, (X_train.shape[0],X_train.shape[1],1))\n",
    "X_test1 = np.reshape(X_test1, (X_test1.shape[0],X_test1.shape[1],1))\n",
    "X_test2 = np.reshape(X_test2, (X_test2.shape[0],X_test2.shape[1],1))\n",
    "X_test3 = np.reshape(X_test3, (X_test3.shape[0],X_test3.shape[1],1))\n",
    "X_test4 = np.reshape(X_test4, (X_test4.shape[0],X_test4.shape[1],1))\n"
   ]
  },
  {
   "cell_type": "code",
   "execution_count": 2,
   "metadata": {
    "collapsed": false
   },
   "outputs": [
    {
     "name": "stdout",
     "output_type": "stream",
     "text": [
      "(11850, 124) (11850,)\n",
      "(25192, 124) (25192,)\n"
     ]
    }
   ],
   "source": [
    "import numpy as np\n",
    "import pickle\n",
    "import pandas as pd \n",
    "X_test_ = pd.read_pickle(\"./dataset/kdd_test__2labels.pkl\").as_matrix()\n",
    "Y_test_ = pd.read_pickle(\"./dataset/kdd_test__2labels_y.pkl\").as_matrix()\n",
    "\n",
    "X_train_ = pd.read_pickle(\"./dataset/kdd_train__2labels.pkl\").as_matrix()\n",
    "Y_train_ = pd.read_pickle(\"./dataset/kdd_train__2labels_y.pkl\").as_matrix()\n",
    "\n",
    "print(X_test_.shape, Y_test_.shape)\n",
    "print(X_train_.shape, Y_train_.shape)\n",
    "\n",
    "X_train_ = np.reshape(X_train_, (X_train_.shape[0],X_train_.shape[1],1))\n",
    "X_test_ = np.reshape(X_test_, (X_test_.shape[0],X_test_.shape[1],1))\n"
   ]
  },
  {
   "cell_type": "code",
   "execution_count": null,
   "metadata": {
    "collapsed": false
   },
   "outputs": [],
   "source": [
    "cnn1d_1 = Sequential([Conv1D(64, 3, padding=\"same\",input_shape=(124, 1)),\n",
    "    Activation('relu'),\n",
    "    MaxPooling1D(pool_size=2),\n",
    "    Flatten(),\n",
    "    Dense(128),\n",
    "    Activation('relu'),\n",
    "    Dropout(0.5),\n",
    "    Dense(1),\n",
    "    Activation('sigmoid'),\n",
    "])\n",
    "print(cnn1d_1.summary())"
   ]
  },
  {
   "cell_type": "code",
   "execution_count": null,
   "metadata": {
    "collapsed": false,
    "scrolled": true
   },
   "outputs": [
    {
     "name": "stdout",
     "output_type": "stream",
     "text": [
      "Train on 25192 samples, validate on 11850 samples\n",
      "Epoch 1/10\n"
     ]
    }
   ],
   "source": [
    "#cnn1d_1 = multi_gpu_model(cnn1d_1, gpus=8)\n",
    "cnn1d_1.compile(loss=\"binary_crossentropy\", optimizer=\"adam\",metrics=['accuracy'])\n",
    "# train\n",
    "start_time = time.time()\n",
    "cnn1d_1.fit(X_train_, Y_train_, batch_size=64, validation_data=(X_test_, Y_test_) ,epochs=10)\n",
    "end_time = time.time() \n",
    "print(\"Total time taken to train the Training model is\", (end_time - start_time))\n",
    "# serialize model to JSON\n",
    "model_json = cnn1d_1.to_json()\n",
    "with open(\"20170827_mawilab_flow_000.json\", \"w\") as json_file:\n",
    "    json_file.write(model_json)\n",
    "# serialize weights to HDF5\n",
    "cnn1d_1.save_weights(\"20170827_mawilab_flow_000.h5\")\n",
    "print(\"Saved model to disk\")"
   ]
  },
  {
   "cell_type": "code",
   "execution_count": null,
   "metadata": {
    "collapsed": true
   },
   "outputs": [],
   "source": []
  }
 ],
 "metadata": {
  "anaconda-cloud": {},
  "kernelspec": {
   "display_name": "Python [conda env:GPU]",
   "language": "python",
   "name": "conda-env-GPU-py"
  },
  "language_info": {
   "codemirror_mode": {
    "name": "ipython",
    "version": 3
   },
   "file_extension": ".py",
   "mimetype": "text/x-python",
   "name": "python",
   "nbconvert_exporter": "python",
   "pygments_lexer": "ipython3",
   "version": "3.5.3"
  }
 },
 "nbformat": 4,
 "nbformat_minor": 1
}
