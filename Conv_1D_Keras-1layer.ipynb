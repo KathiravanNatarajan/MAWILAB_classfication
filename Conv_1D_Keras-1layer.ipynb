{
 "cells": [
  {
   "cell_type": "code",
   "execution_count": 1,
   "metadata": {
    "collapsed": false
   },
   "outputs": [
    {
     "name": "stderr",
     "output_type": "stream",
     "text": [
      "Using TensorFlow backend.\n",
      "C:\\Anaconda\\envs\\tensorflow\\lib\\site-packages\\sklearn\\utils\\validation.py:429: DataConversionWarning: Data with input dtype uint8 was converted to float64 by the normalize function.\n",
      "  warnings.warn(msg, _DataConversionWarning)\n"
     ]
    }
   ],
   "source": [
    "from __future__ import print_function\n",
    "import numpy as np\n",
    "np.random.seed(1337)  # for reproducibility\n",
    "import time\n",
    "from keras.preprocessing import sequence\n",
    "from keras.models import Sequential\n",
    "from keras.layers import Dense, Dropout, Activation, Lambda\n",
    "from keras.layers import Conv1D,MaxPooling1D, Flatten\n",
    "\n",
    "from keras.utils import multi_gpu_model\n",
    "from keras import backend as K\n",
    "from sklearn.cross_validation import train_test_split\n",
    "\n",
    "import pandas as pd\n",
    "from keras.utils.np_utils import to_categorical\n",
    "from sklearn.preprocessing import Normalizer\n",
    "from keras.utils import np_utils\n",
    "\n",
    "import h5py\n",
    "\n",
    "X_train = np.load(\"20170827_mawilab_flow_000features.pkl\")\n",
    "Y_train = np.load(\"20170827_mawilab_flow_000labels.pkl\")\n",
    "\n",
    "scaler = Normalizer().fit(X_train)\n",
    "X_train = scaler.transform(X_train)\n",
    "scaler = Normalizer().fit(Y_train)\n",
    "Y_train = scaler.transform(Y_train)\n",
    "\n",
    "# Test Set 1 : 20170827_mawilab_flow_001\n",
    "X_test1 = np.load(\"20170827_mawilab_flow_001features.pkl\")\n",
    "Y_test1 = np.load(\"20170827_mawilab_flow_001labels.pkl\")\n",
    "scaler = Normalizer().fit(X_test1)\n",
    "X_test1 = scaler.transform(X_test1)\n",
    "scaler = Normalizer().fit(Y_test1)\n",
    "Y_test1 = scaler.transform(Y_test1)\n",
    "\n",
    "# Test Set 2 : 20170827_mawilab_flow_002\n",
    "X_test2 = np.load(\"20170827_mawilab_flow_002features.pkl\")\n",
    "Y_test2 = np.load(\"20170827_mawilab_flow_002labels.pkl\")\n",
    "scaler = Normalizer().fit(X_test2)\n",
    "X_test2 = scaler.transform(X_test2)\n",
    "scaler = Normalizer().fit(Y_test2)\n",
    "Y_test2 = scaler.transform(Y_test2)\n",
    "\n",
    "# Test Set 3 : 20170827_mawilab_flow_003\n",
    "X_test3 = np.load(\"20170827_mawilab_flow_003features.pkl\")\n",
    "Y_test3 = np.load(\"20170827_mawilab_flow_003labels.pkl\")\n",
    "scaler = Normalizer().fit(X_test3)\n",
    "X_test3 = scaler.transform(X_test3)\n",
    "scaler = Normalizer().fit(Y_test3)\n",
    "Y_test3 = scaler.transform(Y_test3)\n",
    "\n",
    "# Test Set 4: 20170827_mawilab_flow_004\n",
    "X_test4 = np.load(\"20170827_mawilab_flow_004features.pkl\")\n",
    "Y_test4 = np.load(\"20170827_mawilab_flow_004labels.pkl\")\n",
    "scaler = Normalizer().fit(X_test4)\n",
    "X_test4 = scaler.transform(X_test4)\n",
    "scaler = Normalizer().fit(Y_test4)\n",
    "Y_test4 = scaler.transform(Y_test4)\n",
    "\n",
    "# reshape input to be [samples, time steps, features]\n",
    "X_train = np.reshape(X_train, (X_train.shape[0],X_train.shape[1],1))\n",
    "X_test1 = np.reshape(X_test1, (X_test1.shape[0],X_test1.shape[1],1))\n",
    "X_test2 = np.reshape(X_test2, (X_test2.shape[0],X_test2.shape[1],1))\n",
    "X_test3 = np.reshape(X_test3, (X_test3.shape[0],X_test3.shape[1],1))\n",
    "X_test4 = np.reshape(X_test4, (X_test4.shape[0],X_test4.shape[1],1))\n"
   ]
  },
  {
   "cell_type": "code",
   "execution_count": 2,
   "metadata": {
    "collapsed": false
   },
   "outputs": [
    {
     "name": "stdout",
     "output_type": "stream",
     "text": [
      "_________________________________________________________________\n",
      "Layer (type)                 Output Shape              Param #   \n",
      "=================================================================\n",
      "conv1d_1 (Conv1D)            (None, 16, 64)            256       \n",
      "_________________________________________________________________\n",
      "activation_1 (Activation)    (None, 16, 64)            0         \n",
      "_________________________________________________________________\n",
      "max_pooling1d_1 (MaxPooling1 (None, 8, 64)             0         \n",
      "_________________________________________________________________\n",
      "flatten_1 (Flatten)          (None, 512)               0         \n",
      "_________________________________________________________________\n",
      "dense_1 (Dense)              (None, 128)               65664     \n",
      "_________________________________________________________________\n",
      "activation_2 (Activation)    (None, 128)               0         \n",
      "_________________________________________________________________\n",
      "dropout_1 (Dropout)          (None, 128)               0         \n",
      "_________________________________________________________________\n",
      "dense_2 (Dense)              (None, 2)                 258       \n",
      "_________________________________________________________________\n",
      "activation_3 (Activation)    (None, 2)                 0         \n",
      "=================================================================\n",
      "Total params: 66,178\n",
      "Trainable params: 66,178\n",
      "Non-trainable params: 0\n",
      "_________________________________________________________________\n",
      "None\n"
     ]
    }
   ],
   "source": [
    "cnn1d_1 = Sequential([Conv1D(64, 3, padding=\"same\",input_shape=(16, 1)),\n",
    "    Activation('relu'),\n",
    "    MaxPooling1D(pool_size=2),\n",
    "    Flatten(),\n",
    "    Dense(128),\n",
    "    Activation('relu'),\n",
    "    Dropout(0.5),\n",
    "    Dense(2),\n",
    "    Activation('sigmoid'),\n",
    "])\n",
    "print(cnn1d_1.summary())"
   ]
  },
  {
   "cell_type": "code",
   "execution_count": 4,
   "metadata": {
    "collapsed": false,
    "scrolled": true
   },
   "outputs": [
    {
     "name": "stdout",
     "output_type": "stream",
     "text": [
      "Train on 38361 samples, validate on 47265 samples\n",
      "Epoch 1/10\n",
      "38361/38361 [==============================] - 3s 88us/step - loss: 0.4380 - acc: 0.7452 - val_loss: 0.4691 - val_acc: 0.7448\n",
      "Epoch 2/10\n",
      "38361/38361 [==============================] - 3s 77us/step - loss: 0.4361 - acc: 0.7454 - val_loss: 0.4702 - val_acc: 0.7441\n",
      "Epoch 3/10\n",
      "38361/38361 [==============================] - 3s 77us/step - loss: 0.4343 - acc: 0.7457 - val_loss: 0.4608 - val_acc: 0.7457\n",
      "Epoch 4/10\n",
      "38361/38361 [==============================] - 3s 81us/step - loss: 0.4328 - acc: 0.7464 - val_loss: 0.4655 - val_acc: 0.7456\n",
      "Epoch 5/10\n",
      "38361/38361 [==============================] - 3s 83us/step - loss: 0.4308 - acc: 0.7470 - val_loss: 0.4592 - val_acc: 0.7456\n",
      "Epoch 6/10\n",
      "38361/38361 [==============================] - 3s 80us/step - loss: 0.4304 - acc: 0.7476 - val_loss: 0.4525 - val_acc: 0.7465\n",
      "Epoch 7/10\n",
      "38361/38361 [==============================] - 3s 83us/step - loss: 0.4302 - acc: 0.7476 - val_loss: 0.4537 - val_acc: 0.7465\n",
      "Epoch 8/10\n",
      "38361/38361 [==============================] - 3s 83us/step - loss: 0.4291 - acc: 0.7477 - val_loss: 0.4742 - val_acc: 0.7471\n",
      "Epoch 9/10\n",
      "38361/38361 [==============================] - 3s 76us/step - loss: 0.4279 - acc: 0.7480 - val_loss: 0.4698 - val_acc: 0.7471\n",
      "Epoch 10/10\n",
      "38361/38361 [==============================] - 3s 90us/step - loss: 0.4263 - acc: 0.7493 - val_loss: 0.4685 - val_acc: 0.7466\n",
      "Total time taken to train the Training model is 31.946104288101196\n",
      "Saved model to disk\n"
     ]
    }
   ],
   "source": [
    "cnn1d_1 = multi_gpu_model(cnn1d_1, gpus=8)\n",
    "cnn1d_1.compile(loss=\"binary_crossentropy\", optimizer=\"adam\",metrics=['accuracy'])\n",
    "# train\n",
    "start_time = time.time()\n",
    "cnn1d_1.fit(X_train, Y_train, batch_size=64, validation_data=(X_test2, Y_test2) ,epochs=10)\n",
    "end_time = time.time() \n",
    "print(\"Total time taken to train the Training model is\", (end_time - start_time))\n",
    "# serialize model to JSON\n",
    "model_json = cnn1d_1.to_json()\n",
    "with open(\"20170827_mawilab_flow_000.json\", \"w\") as json_file:\n",
    "    json_file.write(model_json)\n",
    "# serialize weights to HDF5\n",
    "cnn1d_1.save_weights(\"20170827_mawilab_flow_000.h5\")\n",
    "print(\"Saved model to disk\")"
   ]
  },
  {
   "cell_type": "code",
   "execution_count": null,
   "metadata": {
    "collapsed": true
   },
   "outputs": [],
   "source": []
  }
 ],
 "metadata": {
  "anaconda-cloud": {},
  "kernelspec": {
   "display_name": "Python [conda env:tensorflow]",
   "language": "python",
   "name": "conda-env-tensorflow-py"
  },
  "language_info": {
   "codemirror_mode": {
    "name": "ipython",
    "version": 3
   },
   "file_extension": ".py",
   "mimetype": "text/x-python",
   "name": "python",
   "nbconvert_exporter": "python",
   "pygments_lexer": "ipython3",
   "version": "3.5.3"
  }
 },
 "nbformat": 4,
 "nbformat_minor": 1
}
