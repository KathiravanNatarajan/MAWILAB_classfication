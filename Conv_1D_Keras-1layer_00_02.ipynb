{
 "cells": [
  {
   "cell_type": "code",
   "execution_count": 8,
   "metadata": {
    "collapsed": false
   },
   "outputs": [],
   "source": [
    "from __future__ import print_function\n",
    "import numpy as np\n",
    "np.random.seed(1337)  # for reproducibility\n",
    "import time\n",
    "from keras.preprocessing import sequence\n",
    "from keras.models import Sequential\n",
    "from keras.layers import Dense, Dropout, Activation, Lambda\n",
    "from keras.layers import Conv1D,MaxPooling1D, Flatten\n",
    "\n",
    "from keras.utils import multi_gpu_model\n",
    "from keras import backend as K\n",
    "from sklearn.cross_validation import train_test_split\n",
    "import matplotlib\n",
    "matplotlib.use('agg')\n",
    "import pylab as plt\n",
    "import pandas as pd\n",
    "from keras.utils.np_utils import to_categorical\n",
    "from sklearn import preprocessing as pp\n",
    "from keras.utils import np_utils\n",
    "ss = pp.StandardScaler()\n",
    "import h5py\n",
    "\n",
    "X_train = np.load(\"20170827_mawilab_flow_000flags_nosvc_features.pkl\")\n",
    "Y_train = np.load(\"20170827_mawilab_flow_000flags_nosvc_labels.pkl\")\n",
    "\n",
    "\n",
    "# Test Set 2 : 20170827_mawilab_flow_002\n",
    "X_test2 = np.load(\"20170827_mawilab_flow_002flags_nosvc_features.pkl\")\n",
    "Y_test2 = np.load(\"20170827_mawilab_flow_002flags_nosvc_labels.pkl\")\n",
    "X_train = ss.fit_transform(X_train)\n",
    "X_test2 = ss.fit_transform(X_test2)\n",
    "\n",
    "\n",
    "\n",
    "# reshape input to be [samples, time steps, features]\n",
    "X_train = np.reshape(X_train, (X_train.shape[0],X_train.shape[1],1))\n",
    "X_test2 = np.reshape(X_test2, (X_test2.shape[0],X_test2.shape[1],1))\n"
   ]
  },
  {
   "cell_type": "code",
   "execution_count": 9,
   "metadata": {
    "collapsed": false
   },
   "outputs": [
    {
     "name": "stdout",
     "output_type": "stream",
     "text": [
      "_________________________________________________________________\n",
      "Layer (type)                 Output Shape              Param #   \n",
      "=================================================================\n",
      "conv1d_3 (Conv1D)            (None, 15, 64)            256       \n",
      "_________________________________________________________________\n",
      "activation_7 (Activation)    (None, 15, 64)            0         \n",
      "_________________________________________________________________\n",
      "max_pooling1d_3 (MaxPooling1 (None, 7, 64)             0         \n",
      "_________________________________________________________________\n",
      "flatten_3 (Flatten)          (None, 448)               0         \n",
      "_________________________________________________________________\n",
      "dense_5 (Dense)              (None, 128)               57472     \n",
      "_________________________________________________________________\n",
      "activation_8 (Activation)    (None, 128)               0         \n",
      "_________________________________________________________________\n",
      "dropout_3 (Dropout)          (None, 128)               0         \n",
      "_________________________________________________________________\n",
      "dense_6 (Dense)              (None, 2)                 258       \n",
      "_________________________________________________________________\n",
      "activation_9 (Activation)    (None, 2)                 0         \n",
      "=================================================================\n",
      "Total params: 57,986\n",
      "Trainable params: 57,986\n",
      "Non-trainable params: 0\n",
      "_________________________________________________________________\n",
      "None\n"
     ]
    }
   ],
   "source": [
    "cnn1d_1 = Sequential([Conv1D(64, 3, padding=\"same\",input_shape=(15, 1)),\n",
    "    Activation('relu'),\n",
    "    MaxPooling1D(pool_size=2),\n",
    "    Flatten(),\n",
    "    Dense(128),\n",
    "    Activation('relu'),\n",
    "    Dropout(0.5),\n",
    "    Dense(2),\n",
    "    Activation('sigmoid'),\n",
    "])\n",
    "print(cnn1d_1.summary())"
   ]
  },
  {
   "cell_type": "code",
   "execution_count": 10,
   "metadata": {
    "collapsed": false,
    "scrolled": true
   },
   "outputs": [
    {
     "name": "stdout",
     "output_type": "stream",
     "text": [
      "Train on 38361 samples, validate on 47265 samples\n",
      "Epoch 1/10\n",
      "38361/38361 [==============================] - 12s 303us/step - loss: 0.4810 - acc: 0.7045 - val_loss: 0.4874 - val_acc: 0.7155\n",
      "Epoch 2/10\n",
      "38361/38361 [==============================] - 9s 239us/step - loss: 0.4631 - acc: 0.7189 - val_loss: 0.4754 - val_acc: 0.7127\n",
      "Epoch 3/10\n",
      "38361/38361 [==============================] - 9s 231us/step - loss: 0.4593 - acc: 0.7196 - val_loss: 0.4742 - val_acc: 0.7172\n",
      "Epoch 4/10\n",
      "38361/38361 [==============================] - 9s 241us/step - loss: 0.4568 - acc: 0.7238 - val_loss: 0.4698 - val_acc: 0.7214\n",
      "Epoch 5/10\n",
      "38361/38361 [==============================] - 9s 233us/step - loss: 0.4547 - acc: 0.7265 - val_loss: 0.4629 - val_acc: 0.7208\n",
      "Epoch 6/10\n",
      "38361/38361 [==============================] - 9s 233us/step - loss: 0.4523 - acc: 0.7275 - val_loss: 0.4671 - val_acc: 0.7204\n",
      "Epoch 7/10\n",
      "38361/38361 [==============================] - 9s 233us/step - loss: 0.4505 - acc: 0.7293 - val_loss: 0.4696 - val_acc: 0.7335\n",
      "Epoch 8/10\n",
      "38361/38361 [==============================] - 9s 234us/step - loss: 0.4480 - acc: 0.7299 - val_loss: 0.4659 - val_acc: 0.7532\n",
      "Epoch 9/10\n",
      "38361/38361 [==============================] - 9s 233us/step - loss: 0.4465 - acc: 0.7306 - val_loss: 0.4664 - val_acc: 0.7376\n",
      "Epoch 10/10\n",
      "38361/38361 [==============================] - 9s 233us/step - loss: 0.4439 - acc: 0.7310 - val_loss: 0.4719 - val_acc: 0.7465\n",
      "Total time taken to train the Training model is 93.65152192115784\n",
      "Saved model to disk\n"
     ]
    }
   ],
   "source": [
    "#cnn1d_1 = multi_gpu_model(cnn1d_1, gpus=8)\n",
    "cnn1d_1.compile(loss=\"binary_crossentropy\", optimizer=\"adam\",metrics=['accuracy'])\n",
    "# train\n",
    "start_time = time.time()\n",
    "history = cnn1d_1.fit(X_train, Y_train, batch_size=64, validation_data=(X_test2, Y_test2) ,epochs=10)\n",
    "end_time = time.time() \n",
    "print(\"Total time taken to train the Training model is\", (end_time - start_time))\n",
    "# serialize model to JSON\n",
    "model_json = cnn1d_1.to_json()\n",
    "with open(\"20170827_mawilab_flow_000.json\", \"w\") as json_file:\n",
    "    json_file.write(model_json)\n",
    "# serialize weights to HDF5\n",
    "cnn1d_1.save_weights(\"20170827_mawilab_flow_000.h5\")\n",
    "print(\"Saved model to disk\")\n",
    "plt.plot(history.history['acc'])\n",
    "plt.plot(history.history['val_acc'])\n",
    "plt.title('model accuracy')\n",
    "plt.ylabel('accuracy')\n",
    "plt.xlabel('epoch')\n",
    "plt.legend(['train', 'test'], loc='upper left')\n",
    "plt.show()\n",
    "plt.savefig('Acc_Valaccuaracy00_02.png')"
   ]
  },
  {
   "cell_type": "code",
   "execution_count": 11,
   "metadata": {
    "collapsed": false
   },
   "outputs": [
    {
     "name": "stdout",
     "output_type": "stream",
     "text": [
      "[[0.49614394 0.50520635]\n",
      " [0.30483556 0.69491464]\n",
      " [0.00258263 0.99742836]\n",
      " ...\n",
      " [0.49614394 0.50520635]\n",
      " [0.14639966 0.8506357 ]\n",
      " [0.00258263 0.99742836]]\n",
      "[1 1 1 ... 1 1 1]\n",
      "[1 1 1 ... 1 1 1]\n",
      "             precision    recall  f1-score   support\n",
      "\n",
      "     normal     0.6560    0.3711    0.4740     14552\n",
      "    anomaly     0.7655    0.9134    0.8330     32713\n",
      "\n",
      "avg / total     0.7318    0.7465    0.7225     47265\n",
      "\n",
      "[[ 5400  9152]\n",
      " [ 2832 29881]]\n",
      "0.6534915758526412\n",
      "0.7464508621601608\n",
      "0.7224525496131438\n",
      "[0.47401685 0.8329663 ]\n"
     ]
    }
   ],
   "source": [
    "from sklearn.metrics import classification_report, confusion_matrix\n",
    "from sklearn.metrics import f1_score\n",
    "y_pred = cnn1d_1.predict(X_test2)\n",
    "print(y_pred)\n",
    "y_pred = np.argmax(y_pred, axis=1)\n",
    "print(y_pred)\n",
    "\n",
    "y_pred = cnn1d_1.predict_classes(X_test2)\n",
    "print(y_pred)\n",
    "\n",
    "p=cnn1d_1.predict_proba(X_test2)\n",
    "\n",
    "target_names = ['normal', 'anomaly']\n",
    "print(classification_report(np.argmax(Y_test2, axis=1), y_pred, target_names=target_names, digits=4))\n",
    "print(confusion_matrix(np.argmax(Y_test2, axis=1), y_pred))\n",
    "Y_test2 = np.argmax(Y_test2, axis=1)\n",
    "\n",
    "print(f1_score(Y_test2, y_pred, average='macro'))\n",
    "\n",
    "print(f1_score(Y_test2, y_pred, average='micro'))\n",
    "\n",
    "print(f1_score(Y_test2, y_pred, average='weighted'))\n",
    "\n",
    "print(f1_score(Y_test2, y_pred, average=None))"
   ]
  }
 ],
 "metadata": {
  "anaconda-cloud": {},
  "kernelspec": {
   "display_name": "Python [conda env:tensorflow-cpu]",
   "language": "python",
   "name": "conda-env-tensorflow-cpu-py"
  },
  "language_info": {
   "codemirror_mode": {
    "name": "ipython",
    "version": 3
   },
   "file_extension": ".py",
   "mimetype": "text/x-python",
   "name": "python",
   "nbconvert_exporter": "python",
   "pygments_lexer": "ipython3",
   "version": "3.5.4"
  }
 },
 "nbformat": 4,
 "nbformat_minor": 1
}
