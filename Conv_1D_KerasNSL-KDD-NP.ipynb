{
 "cells": [
  {
   "cell_type": "code",
   "execution_count": 26,
   "metadata": {
    "collapsed": false
   },
   "outputs": [
    {
     "name": "stdout",
     "output_type": "stream",
     "text": [
      "(22544, 2)\n",
      "(22544, 122, 1)\n",
      "(25192, 2)\n",
      "(25192, 122, 1)\n"
     ]
    }
   ],
   "source": [
    "from __future__ import print_function\n",
    "import numpy as np\n",
    "np.random.seed(1337)  # for reproducibility\n",
    "import time\n",
    "from keras.preprocessing import sequence\n",
    "from keras.models import Sequential\n",
    "from keras.layers import Dense, Dropout, Activation, Lambda\n",
    "from keras.layers import Conv1D,MaxPooling1D, Flatten\n",
    "\n",
    "from keras.utils import multi_gpu_model\n",
    "from keras import backend as K\n",
    "from sklearn.cross_validation import train_test_split\n",
    "import matplotlib\n",
    "matplotlib.use('agg')\n",
    "import pylab as plt\n",
    "\n",
    "import pandas as pd\n",
    "from keras.utils.np_utils import to_categorical\n",
    "from sklearn.preprocessing import Normalizer\n",
    "from keras.utils import np_utils\n",
    "import pickle\n",
    "import h5py\n",
    "\n",
    "\n",
    "# KDD - and + \n",
    "X_testP_ = pd.read_pickle(\"./dataset/kdd_test_2labels.pkl\")\n",
    "X_trainN_ = pd.read_pickle(\"./dataset/kdd_train__2labels.pkl\")\n",
    "Y_trainN_ = X_trainN_.iloc[:, 122:].as_matrix()\n",
    "Y_testP_ = X_testP_.iloc[:, 122:].as_matrix()\n",
    "X_trainN_ = X_trainN_.as_matrix()\n",
    "X_testP_ = X_testP_.as_matrix()\n",
    "scaler1 = Normalizer().fit(X_trainN_[:,:122])\n",
    "X_trainN_ = scaler1.transform(X_trainN_[:,:122])\n",
    "scaler2 = Normalizer().fit(X_testP_[:,:122])\n",
    "X_testP_ = scaler2.transform(X_testP_[:,:122])\n",
    "X_trainN_ = np.reshape(X_trainN_, (X_trainN_.shape[0],X_trainN_.shape[1],1))\n",
    "X_testP_ = np.reshape(X_testP_, (X_testP_.shape[0],X_testP_.shape[1],1))\n",
    "print(Y_testP_.shape)\n",
    "print(X_testP_.shape)\n",
    "print(Y_trainN_.shape)\n",
    "print(X_trainN_.shape)"
   ]
  },
  {
   "cell_type": "code",
   "execution_count": 27,
   "metadata": {
    "collapsed": false
   },
   "outputs": [
    {
     "name": "stdout",
     "output_type": "stream",
     "text": [
      "_________________________________________________________________\n",
      "Layer (type)                 Output Shape              Param #   \n",
      "=================================================================\n",
      "conv1d_2 (Conv1D)            (None, 122, 64)           256       \n",
      "_________________________________________________________________\n",
      "activation_4 (Activation)    (None, 122, 64)           0         \n",
      "_________________________________________________________________\n",
      "max_pooling1d_2 (MaxPooling1 (None, 61, 64)            0         \n",
      "_________________________________________________________________\n",
      "flatten_2 (Flatten)          (None, 3904)              0         \n",
      "_________________________________________________________________\n",
      "dense_3 (Dense)              (None, 128)               499840    \n",
      "_________________________________________________________________\n",
      "activation_5 (Activation)    (None, 128)               0         \n",
      "_________________________________________________________________\n",
      "dropout_2 (Dropout)          (None, 128)               0         \n",
      "_________________________________________________________________\n",
      "dense_4 (Dense)              (None, 2)                 258       \n",
      "_________________________________________________________________\n",
      "activation_6 (Activation)    (None, 2)                 0         \n",
      "=================================================================\n",
      "Total params: 500,354\n",
      "Trainable params: 500,354\n",
      "Non-trainable params: 0\n",
      "_________________________________________________________________\n",
      "None\n"
     ]
    }
   ],
   "source": [
    "cnn1d_1 = Sequential([Conv1D(64, 3, padding=\"same\",input_shape=(122, 1)),\n",
    "    Activation('relu'),\n",
    "    MaxPooling1D(pool_size=2),\n",
    "    Flatten(),\n",
    "    Dense(128),\n",
    "    Activation('relu'),\n",
    "    Dropout(0.5),\n",
    "    Dense(2),\n",
    "    Activation('sigmoid'),\n",
    "])\n",
    "print(cnn1d_1.summary())"
   ]
  },
  {
   "cell_type": "code",
   "execution_count": 28,
   "metadata": {
    "collapsed": false,
    "scrolled": true
   },
   "outputs": [
    {
     "name": "stdout",
     "output_type": "stream",
     "text": [
      "Train on 25192 samples, validate on 22544 samples\n",
      "Epoch 1/25\n",
      "25192/25192 [==============================] - 7s 279us/step - loss: 0.2236 - acc: 0.9129 - val_loss: 0.8680 - val_acc: 0.6940\n",
      "Epoch 2/25\n",
      "25192/25192 [==============================] - 7s 268us/step - loss: 0.1499 - acc: 0.9446 - val_loss: 0.9232 - val_acc: 0.7334\n",
      "Epoch 3/25\n",
      "25192/25192 [==============================] - 7s 278us/step - loss: 0.1305 - acc: 0.9537 - val_loss: 0.9147 - val_acc: 0.7482\n",
      "Epoch 4/25\n",
      "25192/25192 [==============================] - 7s 281us/step - loss: 0.1222 - acc: 0.9575 - val_loss: 0.8461 - val_acc: 0.7624\n",
      "Epoch 5/25\n",
      "25192/25192 [==============================] - 7s 266us/step - loss: 0.1126 - acc: 0.9614 - val_loss: 0.9854 - val_acc: 0.7516\n",
      "Epoch 6/25\n",
      "25192/25192 [==============================] - 7s 272us/step - loss: 0.1084 - acc: 0.9617 - val_loss: 0.9442 - val_acc: 0.7653\n",
      "Epoch 7/25\n",
      "25192/25192 [==============================] - 7s 270us/step - loss: 0.1044 - acc: 0.9639 - val_loss: 1.0539 - val_acc: 0.7411\n",
      "Epoch 8/25\n",
      "25192/25192 [==============================] - 7s 270us/step - loss: 0.0990 - acc: 0.9641 - val_loss: 1.0537 - val_acc: 0.7638\n",
      "Epoch 9/25\n",
      "25192/25192 [==============================] - 7s 272us/step - loss: 0.0963 - acc: 0.9652 - val_loss: 0.8893 - val_acc: 0.7687\n",
      "Epoch 10/25\n",
      "25192/25192 [==============================] - 7s 271us/step - loss: 0.0944 - acc: 0.9661 - val_loss: 0.8826 - val_acc: 0.7669\n",
      "Epoch 11/25\n",
      "25192/25192 [==============================] - 7s 273us/step - loss: 0.0910 - acc: 0.9667 - val_loss: 0.7898 - val_acc: 0.7789\n",
      "Epoch 12/25\n",
      "25192/25192 [==============================] - 7s 276us/step - loss: 0.0897 - acc: 0.9667 - val_loss: 0.9064 - val_acc: 0.7708\n",
      "Epoch 13/25\n",
      "25192/25192 [==============================] - 7s 274us/step - loss: 0.0842 - acc: 0.9682 - val_loss: 0.9302 - val_acc: 0.7791\n",
      "Epoch 14/25\n",
      "25192/25192 [==============================] - 7s 274us/step - loss: 0.0830 - acc: 0.9691 - val_loss: 0.8330 - val_acc: 0.7762\n",
      "Epoch 15/25\n",
      "25192/25192 [==============================] - 7s 275us/step - loss: 0.0806 - acc: 0.9693 - val_loss: 0.9244 - val_acc: 0.7741\n",
      "Epoch 16/25\n",
      "25192/25192 [==============================] - 7s 274us/step - loss: 0.0792 - acc: 0.9688 - val_loss: 0.9792 - val_acc: 0.7742\n",
      "Epoch 17/25\n",
      "25192/25192 [==============================] - 7s 278us/step - loss: 0.0792 - acc: 0.9691 - val_loss: 0.9720 - val_acc: 0.7730\n",
      "Epoch 18/25\n",
      "25192/25192 [==============================] - 7s 278us/step - loss: 0.0751 - acc: 0.9698 - val_loss: 0.9413 - val_acc: 0.7747\n",
      "Epoch 19/25\n",
      "25192/25192 [==============================] - 7s 276us/step - loss: 0.0740 - acc: 0.9706 - val_loss: 0.8404 - val_acc: 0.7828\n",
      "Epoch 20/25\n",
      "25192/25192 [==============================] - 7s 277us/step - loss: 0.0726 - acc: 0.9708 - val_loss: 1.0887 - val_acc: 0.7694\n",
      "Epoch 21/25\n",
      "25192/25192 [==============================] - 7s 275us/step - loss: 0.0713 - acc: 0.9715 - val_loss: 1.1227 - val_acc: 0.7730\n",
      "Epoch 22/25\n",
      "25192/25192 [==============================] - 7s 276us/step - loss: 0.0696 - acc: 0.9721 - val_loss: 1.0056 - val_acc: 0.7766\n",
      "Epoch 23/25\n",
      "25192/25192 [==============================] - 7s 278us/step - loss: 0.0683 - acc: 0.9716 - val_loss: 1.0742 - val_acc: 0.7713\n",
      "Epoch 24/25\n",
      "25192/25192 [==============================] - 7s 276us/step - loss: 0.0666 - acc: 0.9736 - val_loss: 0.9145 - val_acc: 0.7925\n",
      "Epoch 25/25\n",
      "25192/25192 [==============================] - 7s 277us/step - loss: 0.0657 - acc: 0.9728 - val_loss: 1.0799 - val_acc: 0.7737\n",
      "Total time taken to train the Training model is 173.19825148582458\n",
      "Saved model to disk\n"
     ]
    }
   ],
   "source": [
    "#cnn1d_1 = multi_gpu_model(cnn1d_1, gpus=8)\n",
    "cnn1d_1.compile(loss=\"binary_crossentropy\", optimizer=\"adam\",metrics=['accuracy'])\n",
    "# train\n",
    "start_time = time.time()\n",
    "history = cnn1d_1.fit(X_trainN_, Y_trainN_, batch_size=64, validation_data=(X_testP_, Y_testP_) ,epochs=25)\n",
    "end_time = time.time() \n",
    "print(\"Total time taken to train the Training model is\", (end_time - start_time))\n",
    "# serialize model to JSON\n",
    "model_json = cnn1d_1.to_json()\n",
    "with open(\"NP.json\", \"w\") as json_file:\n",
    "    json_file.write(model_json)\n",
    "# serialize weights to HDF5\n",
    "cnn1d_1.save_weights(\"NP.h5\")\n",
    "print(\"Saved model to disk\")\n",
    "plt.plot(history.history['acc'])\n",
    "plt.plot(history.history['val_acc'])\n",
    "plt.title('model accuracy')\n",
    "plt.ylabel('accuracy')\n",
    "plt.xlabel('epoch')\n",
    "plt.legend(['train', 'test'], loc='upper left')\n",
    "plt.show()\n",
    "plt.savefig('Acc_ValaccuaracyNP.png')"
   ]
  },
  {
   "cell_type": "code",
   "execution_count": null,
   "metadata": {
    "collapsed": true
   },
   "outputs": [],
   "source": []
  }
 ],
 "metadata": {
  "anaconda-cloud": {},
  "kernelspec": {
   "display_name": "Python [conda env:tensorflow-cpu]",
   "language": "python",
   "name": "conda-env-tensorflow-cpu-py"
  },
  "language_info": {
   "codemirror_mode": {
    "name": "ipython",
    "version": 3
   },
   "file_extension": ".py",
   "mimetype": "text/x-python",
   "name": "python",
   "nbconvert_exporter": "python",
   "pygments_lexer": "ipython3",
   "version": "3.5.4"
  }
 },
 "nbformat": 4,
 "nbformat_minor": 1
}
