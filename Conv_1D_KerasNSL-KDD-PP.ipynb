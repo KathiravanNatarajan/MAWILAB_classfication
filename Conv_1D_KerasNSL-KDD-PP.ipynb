{
 "cells": [
  {
   "cell_type": "code",
   "execution_count": 4,
   "metadata": {
    "collapsed": false
   },
   "outputs": [
    {
     "name": "stdout",
     "output_type": "stream",
     "text": [
      "(22544, 2)\n",
      "(22544, 122, 1)\n",
      "(125973, 2)\n",
      "(125973, 122, 1)\n"
     ]
    }
   ],
   "source": [
    "from __future__ import print_function\n",
    "import numpy as np\n",
    "np.random.seed(1337)  # for reproducibility\n",
    "import time\n",
    "from keras.preprocessing import sequence\n",
    "from keras.models import Sequential\n",
    "from keras.layers import Dense, Dropout, Activation, Lambda\n",
    "from keras.layers import Conv1D,MaxPooling1D, Flatten\n",
    "\n",
    "from keras.utils import multi_gpu_model\n",
    "from keras import backend as K\n",
    "from sklearn.cross_validation import train_test_split\n",
    "import matplotlib\n",
    "matplotlib.use('agg')\n",
    "import pylab as plt\n",
    "import pandas as pd\n",
    "from keras.utils.np_utils import to_categorical\n",
    "from sklearn.preprocessing import Normalizer\n",
    "from keras.utils import np_utils\n",
    "import pickle\n",
    "import h5py\n",
    "\n",
    "\n",
    "# KDD + and + \n",
    "X_testP_ = pd.read_pickle(\"./dataset/kdd_test_2labels.pkl\")\n",
    "X_trainP_ = pd.read_pickle(\"./dataset/kdd_train_2labels.pkl\")\n",
    "Y_trainP_ = X_trainP_.iloc[:, 122:].as_matrix()\n",
    "Y_testP_ = X_testP_.iloc[:, 122:].as_matrix()\n",
    "X_trainP_ = X_trainP_.as_matrix()\n",
    "X_testP_ = X_testP_.as_matrix()\n",
    "scaler1 = Normalizer().fit(X_trainP_[:,:122])\n",
    "X_trainP_ = scaler1.transform(X_trainP_[:,:122])\n",
    "scaler2 = Normalizer().fit(X_testP_[:,:122])\n",
    "X_testP_ = scaler2.transform(X_testP_[:,:122])\n",
    "X_trainP_ = np.reshape(X_trainP_, (X_trainP_.shape[0],X_trainP_.shape[1],1))\n",
    "X_testP_ = np.reshape(X_testP_, (X_testP_.shape[0],X_testP_.shape[1],1))\n",
    "print(Y_testP_.shape)\n",
    "print(X_testP_.shape)\n",
    "print(Y_trainP_.shape)\n",
    "print(X_trainP_.shape)"
   ]
  },
  {
   "cell_type": "code",
   "execution_count": 5,
   "metadata": {
    "collapsed": false
   },
   "outputs": [
    {
     "name": "stdout",
     "output_type": "stream",
     "text": [
      "WARNING:tensorflow:From C:\\Anaconda\\envs\\tensorflow-cpu\\lib\\site-packages\\tensorflow\\python\\util\\deprecation.py:497: calling conv1d (from tensorflow.python.ops.nn_ops) with data_format=NHWC is deprecated and will be removed in a future version.\n",
      "Instructions for updating:\n",
      "`NHWC` for data_format is deprecated, use `NWC` instead\n",
      "_________________________________________________________________\n",
      "Layer (type)                 Output Shape              Param #   \n",
      "=================================================================\n",
      "conv1d_1 (Conv1D)            (None, 122, 64)           256       \n",
      "_________________________________________________________________\n",
      "activation_1 (Activation)    (None, 122, 64)           0         \n",
      "_________________________________________________________________\n",
      "max_pooling1d_1 (MaxPooling1 (None, 61, 64)            0         \n",
      "_________________________________________________________________\n",
      "flatten_1 (Flatten)          (None, 3904)              0         \n",
      "_________________________________________________________________\n",
      "dense_1 (Dense)              (None, 128)               499840    \n",
      "_________________________________________________________________\n",
      "activation_2 (Activation)    (None, 128)               0         \n",
      "_________________________________________________________________\n",
      "dropout_1 (Dropout)          (None, 128)               0         \n",
      "_________________________________________________________________\n",
      "dense_2 (Dense)              (None, 2)                 258       \n",
      "_________________________________________________________________\n",
      "activation_3 (Activation)    (None, 2)                 0         \n",
      "=================================================================\n",
      "Total params: 500,354\n",
      "Trainable params: 500,354\n",
      "Non-trainable params: 0\n",
      "_________________________________________________________________\n",
      "None\n"
     ]
    }
   ],
   "source": [
    "cnn1d_1 = Sequential([Conv1D(64, 3, padding=\"same\",input_shape=(122, 1)),\n",
    "    Activation('relu'),\n",
    "    MaxPooling1D(pool_size=2),\n",
    "    Flatten(),\n",
    "    Dense(128),\n",
    "    Activation('relu'),\n",
    "    Dropout(0.5),\n",
    "    Dense(2),\n",
    "    Activation('sigmoid'),\n",
    "])\n",
    "print(cnn1d_1.summary())"
   ]
  },
  {
   "cell_type": "code",
   "execution_count": 6,
   "metadata": {
    "collapsed": false,
    "scrolled": true
   },
   "outputs": [
    {
     "name": "stdout",
     "output_type": "stream",
     "text": [
      "Train on 125973 samples, validate on 22544 samples\n",
      "Epoch 1/25\n",
      "125973/125973 [==============================] - 31s 245us/step - loss: 0.1449 - acc: 0.9477 - val_loss: 0.8807 - val_acc: 0.7700\n",
      "Epoch 2/25\n",
      "125973/125973 [==============================] - 31s 242us/step - loss: 0.0991 - acc: 0.9644 - val_loss: 0.8810 - val_acc: 0.7686\n",
      "Epoch 3/25\n",
      "125973/125973 [==============================] - 29s 232us/step - loss: 0.0845 - acc: 0.9684 - val_loss: 1.1192 - val_acc: 0.7686\n",
      "Epoch 4/25\n",
      "125973/125973 [==============================] - 29s 231us/step - loss: 0.0747 - acc: 0.9721 - val_loss: 1.0708 - val_acc: 0.7731\n",
      "Epoch 5/25\n",
      "125973/125973 [==============================] - 29s 231us/step - loss: 0.0680 - acc: 0.9747 - val_loss: 1.1395 - val_acc: 0.7663\n",
      "Epoch 6/25\n",
      "125973/125973 [==============================] - 30s 240us/step - loss: 0.0609 - acc: 0.9767 - val_loss: 1.1194 - val_acc: 0.7826\n",
      "Epoch 7/25\n",
      "125973/125973 [==============================] - 31s 243us/step - loss: 0.0569 - acc: 0.9785 - val_loss: 1.0904 - val_acc: 0.7865\n",
      "Epoch 8/25\n",
      "125973/125973 [==============================] - 31s 245us/step - loss: 0.0538 - acc: 0.9799 - val_loss: 1.2224 - val_acc: 0.7877\n",
      "Epoch 9/25\n",
      "125973/125973 [==============================] - 31s 243us/step - loss: 0.0503 - acc: 0.9815 - val_loss: 1.2014 - val_acc: 0.7870\n",
      "Epoch 10/25\n",
      "125973/125973 [==============================] - 31s 244us/step - loss: 0.0481 - acc: 0.9821 - val_loss: 1.2904 - val_acc: 0.7863\n",
      "Epoch 11/25\n",
      "125973/125973 [==============================] - 31s 245us/step - loss: 0.0472 - acc: 0.9834 - val_loss: 1.4359 - val_acc: 0.7587\n",
      "Epoch 12/25\n",
      "125973/125973 [==============================] - 31s 245us/step - loss: 0.0450 - acc: 0.9838 - val_loss: 1.2310 - val_acc: 0.7680\n",
      "Epoch 13/25\n",
      "125973/125973 [==============================] - 31s 245us/step - loss: 0.0446 - acc: 0.9847 - val_loss: 1.0906 - val_acc: 0.7882\n",
      "Epoch 14/25\n",
      "125973/125973 [==============================] - 31s 244us/step - loss: 0.0437 - acc: 0.9850 - val_loss: 1.0867 - val_acc: 0.7939\n",
      "Epoch 15/25\n",
      "125973/125973 [==============================] - 31s 245us/step - loss: 0.0414 - acc: 0.9857 - val_loss: 1.1225 - val_acc: 0.7801\n",
      "Epoch 16/25\n",
      "125973/125973 [==============================] - 31s 248us/step - loss: 0.0415 - acc: 0.9862 - val_loss: 1.4061 - val_acc: 0.7608\n",
      "Epoch 17/25\n",
      "125973/125973 [==============================] - 31s 245us/step - loss: 0.0400 - acc: 0.9862 - val_loss: 1.0834 - val_acc: 0.7935\n",
      "Epoch 18/25\n",
      "125973/125973 [==============================] - 31s 245us/step - loss: 0.0396 - acc: 0.9867 - val_loss: 1.2478 - val_acc: 0.7657\n",
      "Epoch 19/25\n",
      "125973/125973 [==============================] - 31s 245us/step - loss: 0.0387 - acc: 0.9872 - val_loss: 1.3825 - val_acc: 0.7664\n",
      "Epoch 20/25\n",
      "125973/125973 [==============================] - 31s 244us/step - loss: 0.0380 - acc: 0.9876 - val_loss: 1.6553 - val_acc: 0.7588\n",
      "Epoch 21/25\n",
      "125973/125973 [==============================] - 31s 245us/step - loss: 0.0361 - acc: 0.9879 - val_loss: 1.1911 - val_acc: 0.7637\n",
      "Epoch 22/25\n",
      "125973/125973 [==============================] - 31s 246us/step - loss: 0.0361 - acc: 0.9880 - val_loss: 1.6557 - val_acc: 0.7557\n",
      "Epoch 23/25\n",
      "125973/125973 [==============================] - 31s 245us/step - loss: 0.0362 - acc: 0.9878 - val_loss: 1.0811 - val_acc: 0.7782\n",
      "Epoch 24/25\n",
      "125973/125973 [==============================] - 31s 245us/step - loss: 0.0351 - acc: 0.9887 - val_loss: 1.2929 - val_acc: 0.7741\n",
      "Epoch 25/25\n",
      "125973/125973 [==============================] - 31s 245us/step - loss: 0.0343 - acc: 0.9890 - val_loss: 1.2708 - val_acc: 0.7715\n",
      "Total time taken to train the Training model is 765.265951871872\n",
      "Saved model to disk\n"
     ]
    }
   ],
   "source": [
    "#cnn1d_1 = multi_gpu_model(cnn1d_1, gpus=8)\n",
    "cnn1d_1.compile(loss=\"binary_crossentropy\", optimizer=\"adam\",metrics=['accuracy'])\n",
    "# train\n",
    "start_time = time.time()\n",
    "history = cnn1d_1.fit(X_trainP_, Y_trainP_, batch_size=64, validation_data=(X_testP_, Y_testP_) ,epochs=25)\n",
    "end_time = time.time() \n",
    "print(\"Total time taken to train the Training model is\", (end_time - start_time))\n",
    "# serialize model to JSON\n",
    "model_json = cnn1d_1.to_json()\n",
    "with open(\"PP.json\", \"w\") as json_file:\n",
    "    json_file.write(model_json)\n",
    "# serialize weights to HDF5\n",
    "cnn1d_1.save_weights(\"PP.h5\")\n",
    "print(\"Saved model to disk\")\n",
    "plt.plot(history.history['acc'])\n",
    "plt.plot(history.history['val_acc'])\n",
    "plt.title('model accuracy')\n",
    "plt.ylabel('accuracy')\n",
    "plt.xlabel('epoch')\n",
    "plt.legend(['train', 'test'], loc='upper left')\n",
    "plt.show()\n",
    "plt.savefig('Acc_ValaccuaracyPP.png')"
   ]
  },
  {
   "cell_type": "code",
   "execution_count": null,
   "metadata": {
    "collapsed": true
   },
   "outputs": [],
   "source": []
  }
 ],
 "metadata": {
  "anaconda-cloud": {},
  "kernelspec": {
   "display_name": "Python [conda env:tensorflow-cpu]",
   "language": "python",
   "name": "conda-env-tensorflow-cpu-py"
  },
  "language_info": {
   "codemirror_mode": {
    "name": "ipython",
    "version": 3
   },
   "file_extension": ".py",
   "mimetype": "text/x-python",
   "name": "python",
   "nbconvert_exporter": "python",
   "pygments_lexer": "ipython3",
   "version": "3.5.4"
  }
 },
 "nbformat": 4,
 "nbformat_minor": 1
}
