{
 "cells": [
  {
   "cell_type": "code",
   "execution_count": 16,
   "metadata": {
    "collapsed": false
   },
   "outputs": [],
   "source": [
    "import tensorflow as tf\n",
    "import numpy as np\n",
    "import pandas as pd \n",
    "import math"
   ]
  },
  {
   "cell_type": "code",
   "execution_count": 17,
   "metadata": {
    "collapsed": false,
    "scrolled": true
   },
   "outputs": [
    {
     "data": {
      "text/plain": [
       "(383615, 32)"
      ]
     },
     "execution_count": 17,
     "metadata": {},
     "output_type": "execute_result"
    }
   ],
   "source": [
    "df = pd.read_csv(\"./dataset/20170827_mawilab_flow_000.csv\",sep=',')\n",
    "df.shape "
   ]
  },
  {
   "cell_type": "code",
   "execution_count": 18,
   "metadata": {
    "collapsed": false
   },
   "outputs": [
    {
     "data": {
      "text/html": [
       "<div>\n",
       "<table border=\"1\" class=\"dataframe\">\n",
       "  <thead>\n",
       "    <tr style=\"text-align: right;\">\n",
       "      <th></th>\n",
       "      <th>A</th>\n",
       "      <th>C</th>\n",
       "      <th>E</th>\n",
       "      <th>EC</th>\n",
       "      <th>F</th>\n",
       "      <th>PA</th>\n",
       "      <th>R</th>\n",
       "      <th>S</th>\n",
       "    </tr>\n",
       "  </thead>\n",
       "  <tbody>\n",
       "    <tr>\n",
       "      <th>0</th>\n",
       "      <td>0</td>\n",
       "      <td>0</td>\n",
       "      <td>0</td>\n",
       "      <td>0</td>\n",
       "      <td>0</td>\n",
       "      <td>0</td>\n",
       "      <td>0</td>\n",
       "      <td>0</td>\n",
       "    </tr>\n",
       "    <tr>\n",
       "      <th>1</th>\n",
       "      <td>1</td>\n",
       "      <td>0</td>\n",
       "      <td>0</td>\n",
       "      <td>0</td>\n",
       "      <td>0</td>\n",
       "      <td>0</td>\n",
       "      <td>0</td>\n",
       "      <td>1</td>\n",
       "    </tr>\n",
       "    <tr>\n",
       "      <th>2</th>\n",
       "      <td>1</td>\n",
       "      <td>0</td>\n",
       "      <td>0</td>\n",
       "      <td>0</td>\n",
       "      <td>0</td>\n",
       "      <td>0</td>\n",
       "      <td>0</td>\n",
       "      <td>0</td>\n",
       "    </tr>\n",
       "    <tr>\n",
       "      <th>3</th>\n",
       "      <td>1</td>\n",
       "      <td>0</td>\n",
       "      <td>0</td>\n",
       "      <td>0</td>\n",
       "      <td>0</td>\n",
       "      <td>0</td>\n",
       "      <td>0</td>\n",
       "      <td>0</td>\n",
       "    </tr>\n",
       "    <tr>\n",
       "      <th>4</th>\n",
       "      <td>1</td>\n",
       "      <td>0</td>\n",
       "      <td>0</td>\n",
       "      <td>0</td>\n",
       "      <td>0</td>\n",
       "      <td>0</td>\n",
       "      <td>0</td>\n",
       "      <td>0</td>\n",
       "    </tr>\n",
       "  </tbody>\n",
       "</table>\n",
       "</div>"
      ],
      "text/plain": [
       "   A  C  E  EC  F  PA  R  S\n",
       "0  0  0  0   0  0   0  0  0\n",
       "1  1  0  0   0  0   0  0  1\n",
       "2  1  0  0   0  0   0  0  0\n",
       "3  1  0  0   0  0   0  0  0\n",
       "4  1  0  0   0  0   0  0  0"
      ]
     },
     "execution_count": 18,
     "metadata": {},
     "output_type": "execute_result"
    }
   ],
   "source": [
    "df.loc[:, 'U'] = pd.Series(np.zeros(df.shape[0]),dtype='int8')\n",
    "df.loc[:, 'N'] = pd.Series(np.zeros(df.shape[0]),dtype='int8')\n",
    "new_flag_df = df['flags'].to_frame()\n",
    "new_flag_df = new_flag_df['flags'].str.get_dummies(' ')\n",
    "new_flag_df.head()"
   ]
  },
  {
   "cell_type": "code",
   "execution_count": 19,
   "metadata": {
    "collapsed": false
   },
   "outputs": [
    {
     "name": "stdout",
     "output_type": "stream",
     "text": [
      "   anomaly  normal\n",
      "0        0       1\n",
      "1        0       1\n",
      "2        0       1\n",
      "3        1       0\n",
      "4        1       0\n",
      "   pro  packets  bytes  svc_port  durat  U  N  A  C  E  EC  F  PA  R  S\n",
      "0    1        1     32         0    0.0  0  0  0  0  0   0  0   0  0  0\n",
      "1    6        1     48        80    0.0  0  0  1  0  0   0  0   0  0  1\n",
      "2    6        1   1440        22    0.0  0  0  1  0  0   0  0   0  0  0\n",
      "3    6        1     52        80    0.0  0  0  1  0  0   0  0   0  0  0\n",
      "4    6        1     52        80    0.0  0  0  1  0  0   0  0   0  0  0\n"
     ]
    }
   ],
   "source": [
    "\"\"\"\n",
    "1. Pro\n",
    "2. Packets\n",
    "3. Bytes\n",
    "4. Flags\n",
    "5. Durat\n",
    "6. Records\n",
    "7. svc_port - combination of sPort and dPort\n",
    "\n",
    "v = np.minimum(df['sPort'], df['dPort'])\n",
    "df['svc_port'] = np.where(v <= 1024, v, df['dPort'])\n",
    "\"\"\"\n",
    "df['svc_port'] = df.apply(lambda x : min(x['sPort'],x['dPort']) if min(x['sPort'],x['dPort']) <= 1024 else x['dPort'], axis=1)\n",
    "df = df.loc[:,('pro', 'packets', 'bytes', 'svc_port', 'durat','U','N','Records')]\n",
    "df.fillna(0, inplace=True) \n",
    "new_df = df.drop(['Records'], axis=1)\n",
    "mawii_labels = pd.get_dummies(df['Records'],prefix='',prefix_sep='')\n",
    "mawii_features = pd.concat([new_df, new_flag_df], axis=1)\n",
    "print(mawii_labels.head())\n",
    "print(mawii_features.head())"
   ]
  },
  {
   "cell_type": "code",
   "execution_count": null,
   "metadata": {
    "collapsed": true
   },
   "outputs": [],
   "source": [
    "from keras.models import Sequential\n",
    "from keras.layers import Conv2D,Activation,Dense\n",
    "input_shape = mawii_features.shape[1]\n",
    "def convol_1(mawii_features): \n",
    "    model = Sequential() \n",
    "    model.add(Conv2D(64, kernel_size=(5, 5), strides=(1, 1),activation='relu',input_shape=input_shape))\n",
    "    model.\n",
    "    "
   ]
  },
  {
   "cell_type": "code",
   "execution_count": 3,
   "metadata": {
    "collapsed": true
   },
   "outputs": [],
   "source": [
    "def conv_2d(x,W): \n",
    "    # Padding : surround the original image with 0's \n",
    "    # valid padding - no padding.size of the image shrinks  resultant image : (n - f + 1, n - f + 1)\n",
    "    # same padding - resultant is same as that of original. resultant image : (n + 2p - f + 1, n +2p - f + 1)  p = (f - 1)/2\n",
    "    # Strides : ((n + 2p - f)/s + 1, (n +2p - f)/s + 1)\n",
    "    return tf.nn.conv2d(input = x, filter = W, strides = [1,1,1,1], padding=\"SAME\")\n",
    "\n",
    "def avg_pool_2x2(x):\n",
    "\n",
    "    # MAX/AVG Pooling : ((n + 2p - f)/s + 1, (n +2p - f)/s + 1)\n",
    "    return tf.nn.avg_pool(x, k_size=[1,2,2,1], strides=[1,2,2,1], padding=\"SAME\")"
   ]
  },
  {
   "cell_type": "code",
   "execution_count": null,
   "metadata": {
    "collapsed": true
   },
   "outputs": [],
   "source": [
    "# cnn-1,2,3 model "
   ]
  },
  {
   "cell_type": "code",
   "execution_count": null,
   "metadata": {
    "collapsed": true
   },
   "outputs": [],
   "source": [
    "def conv1_network(x_image, reuse=False): \n",
    "    with tf.variable_scope('ConvNet1') as scope: \n",
    "        if reuse:\n",
    "             tf.get_variable_scope().reuse_variables()\n",
    "        # First Conv and Pooling layers\n",
    "        W_conv1 = tf.get_variable('c_wconv1',[5,5,1,8],initializer=tf.truncated_normal_initializer(stddev=0.02))\n",
    "        b_conv1 = tf.get_variable('c_bconv1',[8],initializer=tf.constant_initializer(0))\n",
    "        h_conv1 = tf.nn.relu(conv_2d(x_image, W_conv1) + b_conv1)\n",
    "        h_pool1 = avg_pool_2x2(h_conv1)\n",
    "        \n",
    "        # Fully Connected layer1 \n",
    "        # First fully connected layers\n",
    "        W_fc1 = tf.get_variable('d_wfc1', [7*7*8,16],initializer=tf.truncated_normal_initializer(stddev=0.02))\n",
    "        b_fc1 = tf.get_variable('d_bfc1', [16], initializer=tf.constant_initializer(0))\n",
    "        h_pool_flat = tf.reshape(h_pool1, [-1,7*7*8])\n",
    "        h_fc1 = tf.nn.relu(tf.matmul(h_pool_flat,W_fc1)+b_fc1)\n",
    "        \n",
    "        #Seconf fully connected layers\n",
    "        W_fc2 = tf.get_variable('d_wfc2', [16,1],initializer=tf.truncated_normal_initializer(stddev=0.02))\n",
    "        b_fc2 = tf.get_variable('d_bfc2', [1], initializer=tf.constant_initializer(0))\n",
    "\n",
    "        y_conv = tf.nn.relu(tf.matmul(h_fc1,W_fc2)+b_fc2)\n",
    "    \n",
    "    return y_conv "
   ]
  },
  {
   "cell_type": "code",
   "execution_count": null,
   "metadata": {
    "collapsed": true
   },
   "outputs": [],
   "source": []
  },
  {
   "cell_type": "code",
   "execution_count": null,
   "metadata": {
    "collapsed": true
   },
   "outputs": [],
   "source": [
    "def conv2_network(x_image, reuse=False): \n",
    "    with tf.variable_scope('ConvNet2') as scope: \n",
    "        if reuse:\n",
    "             tf.get_variable_scope().reuse_variables()\n",
    "        # First Conv and Pooling layers\n",
    "        W_conv1 = tf.get_variable('c_wconv1',[5,5,1,8],initializer=tf.truncated_normal_initializer(stddev=0.02))\n",
    "        b_conv1 = tf.get_variable('c_bconv1',[8],initializer=tf.constant_initializer(0))\n",
    "        h_conv1 = tf.nn.relu(conv_2d(x_image, W_conv1) + b_conv1)\n",
    "        h_pool1 = avg_pool_2x2(h_conv1)\n",
    "        \n",
    "        # Seond Conv and Pooling layers\n",
    "        W_conv2 = tf.get_variable('d_wconv2',[5,5,8,16],initializer=tf.truncated_normal_initializer(stddev=0.02))\n",
    "        b_conv2 = tf.get_variable('d_bconv2',[16],initializer=tf.constant_initializer(0))\n",
    "        h_conv2 = tf.nn.relu(conv_2d(h_pool1, W_conv2) + b_conv2)\n",
    "        h_pool2 = avg_pool_2x2(h_conv2)\n",
    "        \n",
    "        # First fully connected layers\n",
    "        W_fc1 = tf.get_variable('d_wfc1', [7*7*16,32],initializer=tf.truncated_normal_initializer(stddev=0.02))\n",
    "        b_fc1 = tf.get_variable('d_bfc1', [32], initializer=tf.constant_initializer(0))\n",
    "        h_pool_flat = tf.reshape(h_pool2, [-1,7*7*16])\n",
    "        h_fc1 = tf.nn.relu(tf.matmul(h_pool_flat,W_fc1)+b_fc1)\n",
    "        \n",
    "        #Seconf fully connected layers\n",
    "        W_fc2 = tf.get_variable('d_wfc2', [32,1],initializer=tf.truncated_normal_initializer(stddev=0.02))\n",
    "        b_fc2 = tf.get_variable('d_bfc2', [1], initializer=tf.constant_initializer(0))\n",
    "\n",
    "        y_conv = tf.nn.relu(tf.matmul(h_fc1,W_fc2)+b_fc2)\n",
    "    \n",
    "    return y_conv\n",
    "        "
   ]
  },
  {
   "cell_type": "code",
   "execution_count": null,
   "metadata": {
    "collapsed": true
   },
   "outputs": [],
   "source": [
    "def conv3_network(x_image, reuse=False): \n",
    "    with tf.variable_scope('ConvNet3') as scope: \n",
    "        if reuse:\n",
    "             tf.get_variable_scope().reuse_variables()\n",
    "        # First Conv and Pooling layers\n",
    "        W_conv1 = tf.get_variable('c_wconv1',[5,5,1,8],initializer=tf.truncated_normal_initializer(stddev=0.02))\n",
    "        b_conv1 = tf.get_variable('c_bconv1',[8],initializer=tf.constant_initializer(0))\n",
    "        h_conv1 = tf.nn.relu(conv_2d(x_image, W_conv1) + b_conv1)\n",
    "        h_pool1 = avg_pool_2x2(h_conv1)\n",
    "        \n",
    "        # Seond Conv and Pooling layers\n",
    "        W_conv2 = tf.get_variable('d_wconv2',[5,5,8,16],initializer=tf.truncated_normal_initializer(stddev=0.02))\n",
    "        b_conv2 = tf.get_variable('d_bconv2',[16],initializer=tf.constant_initializer(0))\n",
    "        h_conv2 = tf.nn.relu(conv_2d(h_pool1, W_conv2) + b_conv2)\n",
    "        h_pool2 = avg_pool_2x2(h_conv2)\n",
    "        \n",
    "        # Third Conv and Pooling layers\n",
    "        W_conv3 = tf.get_variable('d_wconv2',[5,5,16,32],initializer=tf.truncated_normal_initializer(stddev=0.02))\n",
    "        b_conv3 = tf.get_variable('d_bconv2',[32],initializer=tf.constant_initializer(0))\n",
    "        h_conv3 = tf.nn.relu(conv_2d(h_pool2, W_conv3) + b_conv3)\n",
    "        h_pool3 = avg_pool_2x2(h_conv3)\n",
    "        \n",
    "        # First fully connected layers\n",
    "        W_fc1 = tf.get_variable('d_wfc1', [7*7*32,64],initializer=tf.truncated_normal_initializer(stddev=0.02))\n",
    "        b_fc1 = tf.get_variable('d_bfc1', [64], initializer=tf.constant_initializer(0))\n",
    "        h_pool_flat = tf.reshape(h_pool3, [-1,7*7*32])\n",
    "        h_fc1 = tf.nn.relu(tf.matmul(h_pool_flat,W_fc1)+b_fc1)\n",
    "        \n",
    "        #Seconf fully connected layers\n",
    "        W_fc2 = tf.get_variable('d_wfc2', [64,1],initializer=tf.truncated_normal_initializer(stddev=0.02))\n",
    "        b_fc2 = tf.get_variable('d_bfc2', [1], initializer=tf.constant_initializer(0))\n",
    "\n",
    "        y_conv = tf.nn.relu(tf.matmul(h_fc1,W_fc2)+b_fc2)\n",
    "    \n",
    "    return y_conv"
   ]
  }
 ],
 "metadata": {
  "anaconda-cloud": {},
  "kernelspec": {
   "display_name": "Python [conda env:tensorflow]",
   "language": "python",
   "name": "conda-env-tensorflow-py"
  },
  "language_info": {
   "codemirror_mode": {
    "name": "ipython",
    "version": 3
   },
   "file_extension": ".py",
   "mimetype": "text/x-python",
   "name": "python",
   "nbconvert_exporter": "python",
   "pygments_lexer": "ipython3",
   "version": "3.5.3"
  }
 },
 "nbformat": 4,
 "nbformat_minor": 1
}
