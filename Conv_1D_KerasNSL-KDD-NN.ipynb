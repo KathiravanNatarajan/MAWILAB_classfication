{
 "cells": [
  {
   "cell_type": "code",
   "execution_count": 2,
   "metadata": {
    "collapsed": false
   },
   "outputs": [
    {
     "name": "stdout",
     "output_type": "stream",
     "text": [
      "(11850, 2)\n",
      "(11850, 122, 1)\n",
      "(25192, 2)\n",
      "(25192, 122, 1)\n"
     ]
    }
   ],
   "source": [
    "from __future__ import print_function\n",
    "import numpy as np\n",
    "np.random.seed(1337)  # for reproducibility\n",
    "import time\n",
    "from keras.preprocessing import sequence\n",
    "from keras.models import Sequential\n",
    "from keras.layers import Dense, Dropout, Activation, Lambda\n",
    "from keras.layers import Conv1D,MaxPooling1D, Flatten\n",
    "\n",
    "from keras.utils import multi_gpu_model\n",
    "from keras import backend as K\n",
    "from sklearn.cross_validation import train_test_split\n",
    "import matplotlib\n",
    "matplotlib.use('agg')\n",
    "import pylab as plt\n",
    "import pandas as pd\n",
    "from keras.utils.np_utils import to_categorical\n",
    "from sklearn.preprocessing import Normalizer\n",
    "from keras.utils import np_utils\n",
    "import pickle\n",
    "import h5py\n",
    "\n",
    "\n",
    "# KDD - and - \n",
    "X_testN_ = pd.read_pickle(\"./dataset/kdd_test__2labels.pkl\")\n",
    "X_trainN_ = pd.read_pickle(\"./dataset/kdd_train__2labels.pkl\")\n",
    "Y_trainN_ = X_trainN_.iloc[:, 122:].as_matrix()\n",
    "Y_testN_ = X_testN_.iloc[:, 122:].as_matrix()\n",
    "X_trainN_ = X_trainN_.as_matrix()\n",
    "X_testN_ = X_testN_.as_matrix()\n",
    "scaler1 = Normalizer().fit(X_trainN_[:,:122])\n",
    "X_trainN_ = scaler1.transform(X_trainN_[:,:122])\n",
    "scaler2 = Normalizer().fit(X_testN_[:,:122])\n",
    "X_testN_ = scaler2.transform(X_testN_[:,:122])\n",
    "X_trainN_ = np.reshape(X_trainN_, (X_trainN_.shape[0],X_trainN_.shape[1],1))\n",
    "X_testN_ = np.reshape(X_testN_, (X_testN_.shape[0],X_testN_.shape[1],1))\n",
    "print(Y_testN_.shape)\n",
    "print(X_testN_.shape)\n",
    "print(Y_trainN_.shape)\n",
    "print(X_trainN_.shape)"
   ]
  },
  {
   "cell_type": "code",
   "execution_count": 3,
   "metadata": {
    "collapsed": false
   },
   "outputs": [
    {
     "name": "stdout",
     "output_type": "stream",
     "text": [
      "WARNING:tensorflow:From C:\\Anaconda\\envs\\tensorflow-cpu\\lib\\site-packages\\tensorflow\\python\\util\\deprecation.py:497: calling conv1d (from tensorflow.python.ops.nn_ops) with data_format=NHWC is deprecated and will be removed in a future version.\n",
      "Instructions for updating:\n",
      "`NHWC` for data_format is deprecated, use `NWC` instead\n",
      "_________________________________________________________________\n",
      "Layer (type)                 Output Shape              Param #   \n",
      "=================================================================\n",
      "conv1d_1 (Conv1D)            (None, 122, 64)           256       \n",
      "_________________________________________________________________\n",
      "activation_1 (Activation)    (None, 122, 64)           0         \n",
      "_________________________________________________________________\n",
      "max_pooling1d_1 (MaxPooling1 (None, 61, 64)            0         \n",
      "_________________________________________________________________\n",
      "flatten_1 (Flatten)          (None, 3904)              0         \n",
      "_________________________________________________________________\n",
      "dense_1 (Dense)              (None, 128)               499840    \n",
      "_________________________________________________________________\n",
      "activation_2 (Activation)    (None, 128)               0         \n",
      "_________________________________________________________________\n",
      "dropout_1 (Dropout)          (None, 128)               0         \n",
      "_________________________________________________________________\n",
      "dense_2 (Dense)              (None, 2)                 258       \n",
      "_________________________________________________________________\n",
      "activation_3 (Activation)    (None, 2)                 0         \n",
      "=================================================================\n",
      "Total params: 500,354\n",
      "Trainable params: 500,354\n",
      "Non-trainable params: 0\n",
      "_________________________________________________________________\n",
      "None\n"
     ]
    }
   ],
   "source": [
    "cnn1d_1 = Sequential([Conv1D(64, 3, padding=\"same\",input_shape=(122, 1)),\n",
    "    Activation('relu'),\n",
    "    MaxPooling1D(pool_size=2),\n",
    "    Flatten(),\n",
    "    Dense(128),\n",
    "    Activation('relu'),\n",
    "    Dropout(0.5),\n",
    "    Dense(2),\n",
    "    Activation('sigmoid'),\n",
    "])\n",
    "print(cnn1d_1.summary())"
   ]
  },
  {
   "cell_type": "code",
   "execution_count": 4,
   "metadata": {
    "collapsed": false,
    "scrolled": true
   },
   "outputs": [
    {
     "name": "stdout",
     "output_type": "stream",
     "text": [
      "Train on 25192 samples, validate on 11850 samples\n",
      "Epoch 1/25\n",
      "25192/25192 [==============================] - 7s 287us/step - loss: 0.2231 - acc: 0.9129 - val_loss: 1.6157 - val_acc: 0.4208\n",
      "Epoch 2/25\n",
      "25192/25192 [==============================] - 7s 263us/step - loss: 0.1496 - acc: 0.9448 - val_loss: 1.7222 - val_acc: 0.4970\n",
      "Epoch 3/25\n",
      "25192/25192 [==============================] - 7s 264us/step - loss: 0.1304 - acc: 0.9536 - val_loss: 1.7017 - val_acc: 0.5281\n",
      "Epoch 4/25\n",
      "25192/25192 [==============================] - 7s 287us/step - loss: 0.1217 - acc: 0.9572 - val_loss: 1.5662 - val_acc: 0.5559\n",
      "Epoch 5/25\n",
      "25192/25192 [==============================] - 6s 255us/step - loss: 0.1119 - acc: 0.9611 - val_loss: 1.8772 - val_acc: 0.5482\n",
      "Epoch 6/25\n",
      "25192/25192 [==============================] - 6s 246us/step - loss: 0.1077 - acc: 0.9611 - val_loss: 1.7734 - val_acc: 0.5570\n",
      "Epoch 7/25\n",
      "25192/25192 [==============================] - 6s 244us/step - loss: 0.1033 - acc: 0.9639 - val_loss: 1.9736 - val_acc: 0.5026\n",
      "Epoch 8/25\n",
      "25192/25192 [==============================] - 6s 245us/step - loss: 0.0992 - acc: 0.9641 - val_loss: 1.9787 - val_acc: 0.5535\n",
      "Epoch 9/25\n",
      "25192/25192 [==============================] - 6s 244us/step - loss: 0.0963 - acc: 0.9653 - val_loss: 1.6927 - val_acc: 0.5604\n",
      "Epoch 10/25\n",
      "25192/25192 [==============================] - 6s 245us/step - loss: 0.0931 - acc: 0.9664 - val_loss: 1.6831 - val_acc: 0.5585\n",
      "Epoch 11/25\n",
      "25192/25192 [==============================] - 6s 244us/step - loss: 0.0907 - acc: 0.9673 - val_loss: 1.5230 - val_acc: 0.5814\n",
      "Epoch 12/25\n",
      "25192/25192 [==============================] - 6s 244us/step - loss: 0.0891 - acc: 0.9668 - val_loss: 1.6940 - val_acc: 0.5624\n",
      "Epoch 13/25\n",
      "25192/25192 [==============================] - 6s 244us/step - loss: 0.0829 - acc: 0.9684 - val_loss: 1.7049 - val_acc: 0.5818\n",
      "Epoch 14/25\n",
      "25192/25192 [==============================] - 6s 247us/step - loss: 0.0819 - acc: 0.9694 - val_loss: 1.6631 - val_acc: 0.5753\n",
      "Epoch 15/25\n",
      "25192/25192 [==============================] - 6s 245us/step - loss: 0.0788 - acc: 0.9697 - val_loss: 1.8701 - val_acc: 0.5694\n",
      "Epoch 16/25\n",
      "25192/25192 [==============================] - 6s 245us/step - loss: 0.0785 - acc: 0.9691 - val_loss: 1.7792 - val_acc: 0.5776\n",
      "Epoch 17/25\n",
      "25192/25192 [==============================] - 6s 244us/step - loss: 0.0778 - acc: 0.9695 - val_loss: 1.7822 - val_acc: 0.5718\n",
      "Epoch 18/25\n",
      "25192/25192 [==============================] - 6s 247us/step - loss: 0.0742 - acc: 0.9700 - val_loss: 1.7335 - val_acc: 0.5730\n",
      "Epoch 19/25\n",
      "25192/25192 [==============================] - 7s 270us/step - loss: 0.0738 - acc: 0.9698 - val_loss: 1.4953 - val_acc: 0.5896\n",
      "Epoch 20/25\n",
      "25192/25192 [==============================] - 6s 255us/step - loss: 0.0705 - acc: 0.9713 - val_loss: 2.0491 - val_acc: 0.5635\n",
      "Epoch 21/25\n",
      "25192/25192 [==============================] - 6s 256us/step - loss: 0.0706 - acc: 0.9714 - val_loss: 2.1935 - val_acc: 0.5682\n",
      "Epoch 22/25\n",
      "25192/25192 [==============================] - 6s 255us/step - loss: 0.0682 - acc: 0.9727 - val_loss: 2.0038 - val_acc: 0.5715\n",
      "Epoch 23/25\n",
      "25192/25192 [==============================] - 6s 256us/step - loss: 0.0675 - acc: 0.9726 - val_loss: 2.0787 - val_acc: 0.5692\n",
      "Epoch 24/25\n",
      "25192/25192 [==============================] - 6s 256us/step - loss: 0.0666 - acc: 0.9733 - val_loss: 1.6359 - val_acc: 0.6108\n",
      "Epoch 25/25\n",
      "25192/25192 [==============================] - 7s 259us/step - loss: 0.0656 - acc: 0.9739 - val_loss: 2.0900 - val_acc: 0.5686\n",
      "Total time taken to train the Training model is 160.14076232910156\n",
      "Saved model to disk\n"
     ]
    }
   ],
   "source": [
    "#cnn1d_1 = multi_gpu_model(cnn1d_1, gpus=8)\n",
    "cnn1d_1.compile(loss=\"binary_crossentropy\", optimizer=\"adam\",metrics=['accuracy'])\n",
    "# train\n",
    "start_time = time.time()\n",
    "history = cnn1d_1.fit(X_trainN_, Y_trainN_, batch_size=64, validation_data=(X_testN_, Y_testN_) ,epochs=25)\n",
    "end_time = time.time() \n",
    "print(\"Total time taken to train the Training model is\", (end_time - start_time))\n",
    "# serialize model to JSON\n",
    "model_json = cnn1d_1.to_json()\n",
    "with open(\"NN.json\", \"w\") as json_file:\n",
    "    json_file.write(model_json)\n",
    "# serialize weights to HDF5\n",
    "cnn1d_1.save_weights(\"NN.h5\")\n",
    "print(\"Saved model to disk\")\n",
    "plt.plot(history.history['acc'])\n",
    "plt.plot(history.history['val_acc'])\n",
    "plt.title('model accuracy')\n",
    "plt.ylabel('accuracy')\n",
    "plt.xlabel('epoch')\n",
    "plt.legend(['train', 'test'], loc='upper left')\n",
    "plt.show()\n",
    "plt.savefig('Acc_ValaccuaracyNN.png')"
   ]
  },
  {
   "cell_type": "code",
   "execution_count": null,
   "metadata": {
    "collapsed": true
   },
   "outputs": [],
   "source": []
  }
 ],
 "metadata": {
  "anaconda-cloud": {},
  "kernelspec": {
   "display_name": "Python [conda env:tensorflow-cpu]",
   "language": "python",
   "name": "conda-env-tensorflow-cpu-py"
  },
  "language_info": {
   "codemirror_mode": {
    "name": "ipython",
    "version": 3
   },
   "file_extension": ".py",
   "mimetype": "text/x-python",
   "name": "python",
   "nbconvert_exporter": "python",
   "pygments_lexer": "ipython3",
   "version": "3.5.4"
  }
 },
 "nbformat": 4,
 "nbformat_minor": 1
}
