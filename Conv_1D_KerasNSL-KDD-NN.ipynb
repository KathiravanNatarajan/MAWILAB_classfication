{
 "cells": [
  {
   "cell_type": "code",
   "execution_count": null,
   "metadata": {
    "collapsed": false
   },
   "outputs": [],
   "source": [
    "from __future__ import print_function\n",
    "import numpy as np\n",
    "np.random.seed(1337)  # for reproducibility\n",
    "import time\n",
    "from keras.preprocessing import sequence\n",
    "from keras.models import Sequential\n",
    "from keras.layers import Dense, Dropout, Activation, Lambda\n",
    "from keras.layers import Conv1D,MaxPooling1D, Flatten\n",
    "\n",
    "from keras.utils import multi_gpu_model\n",
    "from keras import backend as K\n",
    "from sklearn.cross_validation import train_test_split\n",
    "\n",
    "import pandas as pd\n",
    "from keras.utils.np_utils import to_categorical\n",
    "from sklearn.preprocessing import Normalizer\n",
    "from keras.utils import np_utils\n",
    "import pickle\n",
    "import h5py\n",
    "\n",
    "\n",
    "# KDD - and - \n",
    "X_testN_ = pd.read_pickle(\"./dataset/kdd_test__2labels.pkl\").as_matrix()\n",
    "Y_testN_ = pd.read_pickle(\"./dataset/kdd_test__2labels_y.pkl\").as_matrix()\n",
    "X_trainN_ = pd.read_pickle(\"./dataset/kdd_train__2labels.pkl\").as_matrix()\n",
    "Y_trainN_ = pd.read_pickle(\"./dataset/kdd_train__2labels_y.pkl\").as_matrix()\n",
    "X_trainN_ = np.reshape(X_trainN_, (X_trainN_.shape[0],X_trainN_.shape[1],1))\n",
    "X_testN_ = np.reshape(X_testN_, (X_testN_.shape[0],X_testN_.shape[1],1))\n",
    "\n",
    "# KDD + and + \n",
    "X_testP_ = pd.read_pickle(\"./dataset/kdd_test_2labels.pkl\").as_matrix()\n",
    "Y_testP_ = pd.read_pickle(\"./dataset/kdd_test_2labels_y.pkl\").as_matrix()\n",
    "X_trainP_ = pd.read_pickle(\"./dataset/kdd_train_2labels.pkl\").as_matrix()\n",
    "Y_trainP_ = pd.read_pickle(\"./dataset/kdd_train_2labels_y.pkl\").as_matrix()\n",
    "X_trainP_ = np.reshape(X_trainP_, (X_trainP_.shape[0],X_trainP_.shape[1],1))\n",
    "X_testP_ = np.reshape(X_testP_, (X_testP_.shape[0],X_testP_.shape[1],1))\n",
    "\n",
    "\n",
    "# KDD - and + \n",
    "X_testP_ = pd.read_pickle(\"./dataset/kdd_test_2labels.pkl\").as_matrix()\n",
    "Y_testP_ = pd.read_pickle(\"./dataset/kdd_test_2labels_y.pkl\").as_matrix()\n",
    "X_trainN_ = pd.read_pickle(\"./dataset/kdd_train__2labels.pkl\").as_matrix()\n",
    "Y_trainN_ = pd.read_pickle(\"./dataset/kdd_train__2labels_y.pkl\").as_matrix()\n",
    "X_trainN_ = np.reshape(X_trainN_, (X_trainN_.shape[0],X_trainN_.shape[1],1))\n",
    "X_testP_ = np.reshape(X_testP_, (X_testP_.shape[0],X_testP_.shape[1],1))\n",
    "\n",
    "\n",
    "# KDD + and - \n",
    "X_testN_ = pd.read_pickle(\"./dataset/kdd_test_2labels.pkl\").as_matrix()\n",
    "Y_testN_ = pd.read_pickle(\"./dataset/kdd_test_2labels_y.pkl\").as_matrix()\n",
    "X_trainP_ = pd.read_pickle(\"./dataset/kdd_train__2labels.pkl\").as_matrix()\n",
    "Y_trainP_ = pd.read_pickle(\"./dataset/kdd_train__2labels_y.pkl\").as_matrix()\n",
    "X_trainP_ = np.reshape(X_trainP_, (X_trainP_.shape[0],X_trainP_.shape[1],1))\n",
    "X_testN_ = np.reshape(X_testN_, (X_testN_.shape[0],X_testN_.shape[1],1))\n"
   ]
  },
  {
   "cell_type": "code",
   "execution_count": 2,
   "metadata": {
    "collapsed": false
   },
   "outputs": [
    {
     "name": "stdout",
     "output_type": "stream",
     "text": [
      "_________________________________________________________________\n",
      "Layer (type)                 Output Shape              Param #   \n",
      "=================================================================\n",
      "conv1d_1 (Conv1D)            (None, 124, 64)           256       \n",
      "_________________________________________________________________\n",
      "activation_1 (Activation)    (None, 124, 64)           0         \n",
      "_________________________________________________________________\n",
      "max_pooling1d_1 (MaxPooling1 (None, 62, 64)            0         \n",
      "_________________________________________________________________\n",
      "flatten_1 (Flatten)          (None, 3968)              0         \n",
      "_________________________________________________________________\n",
      "dense_1 (Dense)              (None, 128)               508032    \n",
      "_________________________________________________________________\n",
      "activation_2 (Activation)    (None, 128)               0         \n",
      "_________________________________________________________________\n",
      "dropout_1 (Dropout)          (None, 128)               0         \n",
      "_________________________________________________________________\n",
      "dense_2 (Dense)              (None, 1)                 129       \n",
      "_________________________________________________________________\n",
      "activation_3 (Activation)    (None, 1)                 0         \n",
      "=================================================================\n",
      "Total params: 508,417\n",
      "Trainable params: 508,417\n",
      "Non-trainable params: 0\n",
      "_________________________________________________________________\n",
      "None\n"
     ]
    }
   ],
   "source": [
    "cnn1d_1 = Sequential([Conv1D(64, 3, padding=\"same\",input_shape=(124, 1)),\n",
    "    Activation('relu'),\n",
    "    MaxPooling1D(pool_size=2),\n",
    "    Flatten(),\n",
    "    Dense(128),\n",
    "    Activation('relu'),\n",
    "    Dropout(0.5),\n",
    "    Dense(1),\n",
    "    Activation('sigmoid'),\n",
    "])\n",
    "print(cnn1d_1.summary())"
   ]
  },
  {
   "cell_type": "code",
   "execution_count": null,
   "metadata": {
    "collapsed": false,
    "scrolled": true
   },
   "outputs": [
    {
     "name": "stdout",
     "output_type": "stream",
     "text": [
      "Train on 25192 samples, validate on 22544 samples\n",
      "Epoch 1/5\n"
     ]
    }
   ],
   "source": [
    "#cnn1d_1 = multi_gpu_model(cnn1d_1, gpus=8)\n",
    "cnn1d_1.compile(loss=\"binary_crossentropy\", optimizer=\"adam\",metrics=['accuracy'])\n",
    "# train\n",
    "start_time = time.time()\n",
    "history = cnn1d_1.fit(X_trainN_, Y_trainN_, batch_size=64, validation_data=(X_testN_, Y_testN_) ,epochs=100)\n",
    "end_time = time.time() \n",
    "print(\"Total time taken to train the Training model is\", (end_time - start_time))\n",
    "# serialize model to JSON\n",
    "model_json = cnn1d_1.to_json()\n",
    "with open(\"NN.json\", \"w\") as json_file:\n",
    "    json_file.write(model_json)\n",
    "# serialize weights to HDF5\n",
    "cnn1d_1.save_weights(\"NN.h5\")\n",
    "print(\"Saved model to disk\")\n",
    "plt.plot(history.history['acc'])\n",
    "plt.plot(history.history['val_acc'])\n",
    "plt.title('model accuracy')\n",
    "plt.ylabel('accuracy')\n",
    "plt.xlabel('epoch')\n",
    "plt.legend(['train', 'test'], loc='upper left')\n",
    "plt.show()\n",
    "plt.savefig('Acc_ValaccuaracyNN.png')\n",
    "from keras.utils import plot_model\n",
    "plot_model(cnn1d_1, to_file='NN.png')"
   ]
  },
  {
   "cell_type": "code",
   "execution_count": null,
   "metadata": {
    "collapsed": true
   },
   "outputs": [],
   "source": []
  }
 ],
 "metadata": {
  "anaconda-cloud": {},
  "kernelspec": {
   "display_name": "Python [conda env:tensorflow]",
   "language": "python",
   "name": "conda-env-tensorflow-py"
  },
  "language_info": {
   "codemirror_mode": {
    "name": "ipython",
    "version": 3
   },
   "file_extension": ".py",
   "mimetype": "text/x-python",
   "name": "python",
   "nbconvert_exporter": "python",
   "pygments_lexer": "ipython3",
   "version": "3.5.3"
  }
 },
 "nbformat": 4,
 "nbformat_minor": 1
}
