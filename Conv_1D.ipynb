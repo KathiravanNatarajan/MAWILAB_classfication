{
 "cells": [
  {
   "cell_type": "code",
   "execution_count": 2,
   "metadata": {
    "collapsed": false
   },
   "outputs": [
    {
     "name": "stdout",
     "output_type": "stream",
     "text": [
      "[[ 22.  28.]\n",
      " [ 49.  64.]]\n"
     ]
    }
   ],
   "source": [
    "# Test Code to GPU\n",
    "import tensorflow as tf\n",
    "with tf.device('/gpu:0'):\n",
    "    a = tf.constant([1.0, 2.0, 3.0, 4.0, 5.0, 6.0], shape=[2, 3], name='a')\n",
    "    b = tf.constant([1.0, 2.0, 3.0, 4.0, 5.0, 6.0], shape=[3, 2], name='b')\n",
    "    c = tf.matmul(a, b)\n",
    "\n",
    "with tf.Session() as sess:\n",
    "    print (sess.run(c))"
   ]
  },
  {
   "cell_type": "code",
   "execution_count": 1,
   "metadata": {
    "collapsed": false
   },
   "outputs": [
    {
     "name": "stdout",
     "output_type": "stream",
     "text": [
      "[name: \"/cpu:0\"\n",
      "device_type: \"CPU\"\n",
      "memory_limit: 268435456\n",
      "locality {\n",
      "}\n",
      "incarnation: 8561588457990699372\n",
      ", name: \"/gpu:0\"\n",
      "device_type: \"GPU\"\n",
      "memory_limit: 3282324684\n",
      "locality {\n",
      "  bus_id: 1\n",
      "}\n",
      "incarnation: 2853643666522367967\n",
      "physical_device_desc: \"device: 0, name: GeForce GTX 950M, pci bus id: 0000:01:00.0\"\n",
      "]\n"
     ]
    }
   ],
   "source": [
    "import tensorflow as tf\n",
    "import numpy as np\n",
    "from tensorflow.python.client import device_lib\n",
    "print(device_lib.list_local_devices())\n",
    "from sklearn.preprocessing import Normalizer\n",
    "X = np.load(\"mawi_features.pkl\")\n",
    "Y = np.load(\"mawi_labels.pkl\")\n",
    "C = np.load(\"mawi_labels.pkl\")\n",
    "T = np.load(\"mawi_features.pkl\")\n",
    "\n",
    "scaler = Normalizer().fit(X)\n",
    "trainX = scaler.transform(X)\n",
    "\n",
    "scaler = Normalizer().fit(T)\n",
    "testT = scaler.transform(T)\n",
    "\n",
    "y_train = np.array(Y)\n",
    "#y_test = np.array(C)\n",
    "\n",
    "\n",
    "# reshape input to be [samples, time steps, features]\n",
    "X_train = np.reshape(trainX, [-1,15,1])\n",
    "#X_test = np.reshape(testT, [-1,15,1])"
   ]
  },
  {
   "cell_type": "code",
   "execution_count": 2,
   "metadata": {
    "collapsed": false
   },
   "outputs": [],
   "source": [
    "def conv1D_Net1(input_1d):\n",
    "    kernel_1d1 = tf.truncated_normal([3,1,64], dtype=tf.float32)\n",
    "    conv1d = tf.nn.conv1d(input_1d, kernel_1d1, stride=1, padding='SAME')\n",
    "    conv1d = tf.nn.relu(conv1d)\n",
    "    pool1 = tf.nn.pool(conv1d, [2], 'MAX', 'SAME', strides = [2])\n",
    "     #Flattenning the output of ConvNets \n",
    "    flat_conv2 = tf.contrib.layers.flatten(pool1)\n",
    "\n",
    "    datasize = flat_conv2.get_shape().as_list()[1]\n",
    "    W_fc1 = tf.Variable(tf.truncated_normal([datasize, 128], stddev=0.02))\n",
    "    b_fc1 = tf.Variable(tf.zeros([128]))\n",
    "    h_fc1 = tf.nn.relu(tf.matmul(flat_conv2,W_fc1)+b_fc1)\n",
    "    h_fc1 = tf.nn.dropout(h_fc1, keep_prob)\n",
    "\n",
    "    # Output layer\n",
    "    y_conv = tf.layers.dense(inputs=h_fc1, units=2)\n",
    "    y_conv = tf.nn.sigmoid(y_conv)\n",
    "    return y_conv\n",
    "    \n",
    "def batches(batch_size, features, labels):\n",
    "    assert len(features) == len(labels)\n",
    "    out_batches = []\n",
    "    sample_size = len(features)\n",
    "    for start_i in range(0, sample_size, batch_size):\n",
    "        end_i = start_i + batch_size\n",
    "        batches = [features[start_i:end_i], labels[start_i:end_i]] \n",
    "        out_batches.append(batches)\n",
    "    return out_batches\n"
   ]
  },
  {
   "cell_type": "code",
   "execution_count": null,
   "metadata": {
    "collapsed": false
   },
   "outputs": [],
   "source": [
    "n_classes = 2\n",
    "batchSize =  36 \n",
    "# Features and Labels\n",
    "features = tf.placeholder(tf.float32, [None, trainX.shape[1],1])\n",
    "labels = tf.placeholder(tf.float32, [None, n_classes])\n",
    "keep_prob = tf.placeholder(dtype=tf.float32, name = \"keep_prob\")\n",
    "\n",
    "# Learning rate \n",
    "learning_rate = 0.5\n",
    "\n",
    "# Output of the model \n",
    "output = conv1D_Net1(features)\n",
    "\n",
    "# Calculating cost\n",
    "cost = tf.reduce_mean(tf.nn.sigmoid_cross_entropy_with_logits(logits = output, labels = labels))\n",
    "# Optimizer\n",
    "optimizer = tf.train.AdamOptimizer(learning_rate).minimize(cost)\n",
    "\n",
    "correct_prediction = tf.equal(tf.argmax(output,1), tf.argmax(labels,1))\n",
    "accuracy = tf.reduce_mean(tf.cast(correct_prediction, tf.float32))\n",
    "\n",
    "# Train or test with this batch size\n",
    "\n",
    "epochs = 10\n",
    "\n",
    "\n",
    "init = tf.global_variables_initializer() \n",
    "\n",
    "with tf.Session() as sess:\n",
    "    sess.run(init) \n",
    "    train_batches = batches(batchSize, X_train, y_train)\n",
    "    \n",
    "    for epoch in range(epochs): \n",
    "        for batch_features, batch_labels in train_batches: \n",
    "            train_data = {features: X_train, labels : y_train, keep_prob : 0.7}\n",
    "            training_accuracy = sess.run(accuracy, feed_dict = train_data )\n",
    "            # Print status for every 10 epochs\n",
    "            cost_val = sess.run(cost, feed_dict = {features: X_train, labels : y_train, keep_prob : 1} )\n",
    "        if epoch % 2 == 0:\n",
    "            print('Epoch {:<3} - Training Accuracy: {} loss {}'.format(epoch,training_accuracy, cost_val))\n",
    "\n",
    "    # Save the variables to disk.\n",
    "    save_model_path = './image_classification'\n",
    "    # Save Model\n",
    "    saver = tf.train.Saver()\n",
    "    save_path = saver.save(sess, save_model_path)\n",
    "    print(\"Model saved\")"
   ]
  },
  {
   "cell_type": "code",
   "execution_count": null,
   "metadata": {
    "collapsed": true
   },
   "outputs": [],
   "source": []
  }
 ],
 "metadata": {
  "anaconda-cloud": {},
  "kernelspec": {
   "display_name": "Python [conda env:GPU]",
   "language": "python",
   "name": "conda-env-GPU-py"
  },
  "language_info": {
   "codemirror_mode": {
    "name": "ipython",
    "version": 3
   },
   "file_extension": ".py",
   "mimetype": "text/x-python",
   "name": "python",
   "nbconvert_exporter": "python",
   "pygments_lexer": "ipython3",
   "version": "3.5.3"
  }
 },
 "nbformat": 4,
 "nbformat_minor": 1
}
