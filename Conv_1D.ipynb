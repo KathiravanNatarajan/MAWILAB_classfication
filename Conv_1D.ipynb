{
 "cells": [
  {
   "cell_type": "code",
   "execution_count": 53,
   "metadata": {
    "collapsed": false
   },
   "outputs": [],
   "source": [
    "import tensorflow as tf\n",
    "import numpy as np\n",
    "\n",
    "mawi_features = np.load(\"mawi_features.pkl\")\n",
    "mawi_labels = np.load(\"mawi_labels.pkl\") \n",
    "mawi_features = np.reshape(mawi_features, [-1,15,1])\n",
    "\n",
    "def conv1D_Net1(input_1d):\n",
    "    kernel_1d1 = tf.reshape(tf.truncated_normal([64,1,1], dtype=tf.float32), [64,1,1])\n",
    "    conv1d = tf.nn.conv1d(input_1d, kernel_1d1, stride=1, padding='SAME')\n",
    "    pool1 = tf.nn.pool(conv1d, [2], 'MAX', 'SAME', strides = [2])\n",
    "    #pool1 = tf.nn.dropout(pool1, keep_prob)\n",
    "     #Flattenning the output of ConvNets \n",
    "    flat_conv2 = tf.contrib.layers.flatten(pool1)\n",
    "\n",
    "    datasize = flat_conv2.get_shape().as_list()[1]\n",
    "    W_fc1 = tf.Variable(tf.truncated_normal([datasize, 128], stddev=0.02))\n",
    "    b_fc1 = tf.Variable(tf.zeros([128]))\n",
    "    h_fc1 = tf.nn.relu(tf.matmul(flat_conv2,W_fc1)+b_fc1)\n",
    "    h_fc1 = tf.nn.dropout(h_fc1, keep_prob)\n",
    "\n",
    "    # Output layer\n",
    "    y_conv = tf.layers.dense(inputs=h_fc1, units=2)\n",
    "    return y_conv\n",
    "    \n",
    "def batches(batch_size, features, labels):\n",
    "    assert len(features) == len(labels)\n",
    "    out_batches = []\n",
    "    sample_size = len(features)\n",
    "    for start_i in range(0, sample_size, batch_size):\n",
    "        end_i = start_i + batch_size\n",
    "        batches = [features[start_i:end_i], labels[start_i:end_i]] \n",
    "        out_batches.append(batches)\n",
    "    return out_batches\n"
   ]
  },
  {
   "cell_type": "code",
   "execution_count": 54,
   "metadata": {
    "collapsed": false
   },
   "outputs": [
    {
     "name": "stdout",
     "output_type": "stream",
     "text": [
      "Epoch 0   - Training Accuracy: 0.7015054225921631\n",
      "Epoch 20  - Training Accuracy: 0.30505064129829407\n",
      "Epoch 40  - Training Accuracy: 0.6949493885040283\n",
      "Epoch 60  - Training Accuracy: 0.6274467706680298\n",
      "Epoch 80  - Training Accuracy: 0.6311953663825989\n",
      "Epoch 100 - Training Accuracy: 0.3768231272697449\n",
      "Epoch 120 - Training Accuracy: 0.6949259042739868\n",
      "Epoch 140 - Training Accuracy: 0.33287540078163147\n",
      "Epoch 160 - Training Accuracy: 0.37958890199661255\n",
      "Epoch 180 - Training Accuracy: 0.6949493885040283\n",
      "Model saved\n"
     ]
    }
   ],
   "source": [
    "n_classes = 2 \n",
    "# Features and Labels\n",
    "features = tf.placeholder(tf.float32, [None, 15, 1])\n",
    "labels = tf.placeholder(tf.float32, [None, n_classes])\n",
    "keep_prob = tf.placeholder(dtype=tf.float32, name = \"keep_prob\")\n",
    "\n",
    "# Learning rate \n",
    "learning_rate = 0.5\n",
    "\n",
    "# Output of the model \n",
    "output = conv1D_Net1(features)\n",
    "\n",
    "# Calculating cost\n",
    "cost = tf.reduce_mean(tf.nn.softmax_cross_entropy_with_logits(logits = output, labels = labels))\n",
    "# Optimizer\n",
    "optimizer = tf.train.GradientDescentOptimizer(learning_rate).minimize(cost)\n",
    "\n",
    "correct_prediction = tf.equal(tf.argmax(output,1), tf.argmax(labels,1))\n",
    "accuracy = tf.reduce_mean(tf.cast(correct_prediction, tf.float32))\n",
    "\n",
    "# Train or test with this batch size\n",
    "batchSize =  128 \n",
    "epochs = 200\n",
    "\n",
    "\n",
    "init = tf.global_variables_initializer() \n",
    "\n",
    "with tf.Session() as sess:\n",
    "    sess.run(init) \n",
    "    #train_batches = batches(batchSize, mawi_features, mawi_labels)\n",
    "    \n",
    "    for epoch in range(epochs): \n",
    "        #for batch_features, batch_labels in train_batches: \n",
    "        #    train_data = {features: batch_features, labels : batch_labels, keep_prob : 0.7}\n",
    "        training_accuracy = sess.run(accuracy, feed_dict = {features: mawi_features, labels : mawi_labels, keep_prob : 1} )\n",
    "            # Print status for every 10 epochs\n",
    "        if epoch % 20 == 0:\n",
    "            print('Epoch {:<3} - Training Accuracy: {}'.format(epoch,training_accuracy))\n",
    "\n",
    "    # Save the variables to disk.\n",
    "    save_model_path = './image_classification'\n",
    "    # Save Model\n",
    "    saver = tf.train.Saver()\n",
    "    save_path = saver.save(sess, save_model_path)\n",
    "    print(\"Model saved\")"
   ]
  },
  {
   "cell_type": "code",
   "execution_count": null,
   "metadata": {
    "collapsed": true
   },
   "outputs": [],
   "source": []
  }
 ],
 "metadata": {
  "anaconda-cloud": {},
  "kernelspec": {
   "display_name": "Python [conda env:tensorflow]",
   "language": "python",
   "name": "conda-env-tensorflow-py"
  },
  "language_info": {
   "codemirror_mode": {
    "name": "ipython",
    "version": 3
   },
   "file_extension": ".py",
   "mimetype": "text/x-python",
   "name": "python",
   "nbconvert_exporter": "python",
   "pygments_lexer": "ipython3",
   "version": "3.5.3"
  }
 },
 "nbformat": 4,
 "nbformat_minor": 1
}
