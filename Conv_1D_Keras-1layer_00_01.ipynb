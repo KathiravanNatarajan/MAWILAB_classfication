{
 "cells": [
  {
   "cell_type": "code",
   "execution_count": 22,
   "metadata": {
    "collapsed": false
   },
   "outputs": [
    {
     "name": "stdout",
     "output_type": "stream",
     "text": [
      "(38361, 15, 1)\n",
      "(38361, 2)\n"
     ]
    }
   ],
   "source": [
    "from __future__ import print_function\n",
    "import numpy as np\n",
    "np.random.seed(1337)  # for reproducibility\n",
    "import time\n",
    "from keras.preprocessing import sequence\n",
    "from keras.models import Sequential\n",
    "from keras.layers import Dense, Dropout, Activation, Lambda\n",
    "from keras.layers import Conv1D,MaxPooling1D, Flatten\n",
    "\n",
    "from keras.utils import multi_gpu_model\n",
    "from keras import backend as K\n",
    "from sklearn.cross_validation import train_test_split\n",
    "import matplotlib\n",
    "matplotlib.use('agg')\n",
    "import pylab as plt\n",
    "import pandas as pd\n",
    "from keras.utils.np_utils import to_categorical\n",
    "\n",
    "from keras.utils import np_utils\n",
    "from sklearn import preprocessing as pp\n",
    "\n",
    "import h5py\n",
    "ss = pp.StandardScaler()\n",
    "\n",
    "X_train = np.load(\"20170827_mawilab_flow_000flags_nosvc_features.pkl\")\n",
    "Y_train = np.load(\"20170827_mawilab_flow_000flags_nosvc_labels.pkl\")\n",
    "\n",
    "\n",
    "# Test Set 1 : 20170827_mawilab_flow_001\n",
    "X_test1 = np.load(\"20170827_mawilab_flow_001flags_nosvc_features.pkl\")\n",
    "Y_test1 = np.load(\"20170827_mawilab_flow_001flags_nosvc_labels.pkl\")\n",
    "X_train = ss.fit_transform(X_train)\n",
    "X_test1 = ss.fit_transform(X_test1)\n",
    "\n",
    "# reshape input to be [samples, time steps, features]\n",
    "X_train = np.reshape(X_train, (X_train.shape[0],X_train.shape[1],1))\n",
    "X_test1 = np.reshape(X_test1, (X_test1.shape[0],X_test1.shape[1],1))\n",
    "\n",
    "print(X_train.shape)\n",
    "print(Y_train.shape)"
   ]
  },
  {
   "cell_type": "code",
   "execution_count": 23,
   "metadata": {
    "collapsed": false,
    "scrolled": true
   },
   "outputs": [
    {
     "name": "stdout",
     "output_type": "stream",
     "text": [
      "_________________________________________________________________\n",
      "Layer (type)                 Output Shape              Param #   \n",
      "=================================================================\n",
      "conv1d_5 (Conv1D)            (None, 15, 64)            256       \n",
      "_________________________________________________________________\n",
      "activation_13 (Activation)   (None, 15, 64)            0         \n",
      "_________________________________________________________________\n",
      "max_pooling1d_5 (MaxPooling1 (None, 7, 64)             0         \n",
      "_________________________________________________________________\n",
      "flatten_5 (Flatten)          (None, 448)               0         \n",
      "_________________________________________________________________\n",
      "dense_9 (Dense)              (None, 128)               57472     \n",
      "_________________________________________________________________\n",
      "activation_14 (Activation)   (None, 128)               0         \n",
      "_________________________________________________________________\n",
      "dropout_5 (Dropout)          (None, 128)               0         \n",
      "_________________________________________________________________\n",
      "dense_10 (Dense)             (None, 2)                 258       \n",
      "_________________________________________________________________\n",
      "activation_15 (Activation)   (None, 2)                 0         \n",
      "=================================================================\n",
      "Total params: 57,986\n",
      "Trainable params: 57,986\n",
      "Non-trainable params: 0\n",
      "_________________________________________________________________\n",
      "None\n"
     ]
    }
   ],
   "source": [
    "cnn1d_1 = Sequential([Conv1D(64, 3, padding=\"same\",input_shape=(15, 1)),\n",
    "    Activation('relu'),\n",
    "    MaxPooling1D(pool_size=2),\n",
    "    Flatten(),\n",
    "    Dense(128),\n",
    "    Activation('relu'),\n",
    "    Dropout(0.5),\n",
    "    Dense(2),\n",
    "    Activation('sigmoid'),\n",
    "])\n",
    "print(cnn1d_1.summary())"
   ]
  },
  {
   "cell_type": "code",
   "execution_count": 24,
   "metadata": {
    "collapsed": false,
    "scrolled": true
   },
   "outputs": [
    {
     "name": "stdout",
     "output_type": "stream",
     "text": [
      "Train on 38361 samples, validate on 40780 samples\n",
      "Epoch 1/10\n",
      "38361/38361 [==============================] - 11s 278us/step - loss: 0.4811 - acc: 0.7044 - val_loss: 0.4744 - val_acc: 0.7358\n",
      "Epoch 2/10\n",
      "38361/38361 [==============================] - 9s 228us/step - loss: 0.4641 - acc: 0.7175 - val_loss: 0.4699 - val_acc: 0.7288\n",
      "Epoch 3/10\n",
      "38361/38361 [==============================] - 9s 228us/step - loss: 0.4600 - acc: 0.7198 - val_loss: 0.4679 - val_acc: 0.7373\n",
      "Epoch 4/10\n",
      "38361/38361 [==============================] - 9s 238us/step - loss: 0.4566 - acc: 0.7246 - val_loss: 0.4661 - val_acc: 0.7425\n",
      "Epoch 5/10\n",
      "38361/38361 [==============================] - 9s 235us/step - loss: 0.4540 - acc: 0.7254 - val_loss: 0.4610 - val_acc: 0.7407\n",
      "Epoch 6/10\n",
      "38361/38361 [==============================] - 9s 229us/step - loss: 0.4515 - acc: 0.7277 - val_loss: 0.4600 - val_acc: 0.7406\n",
      "Epoch 7/10\n",
      "38361/38361 [==============================] - 9s 230us/step - loss: 0.4503 - acc: 0.7290 - val_loss: 0.4623 - val_acc: 0.7323\n",
      "Epoch 8/10\n",
      "38361/38361 [==============================] - 9s 233us/step - loss: 0.4475 - acc: 0.7296 - val_loss: 0.4620 - val_acc: 0.7462\n",
      "Epoch 9/10\n",
      "38361/38361 [==============================] - 9s 239us/step - loss: 0.4458 - acc: 0.7307 - val_loss: 0.4611 - val_acc: 0.7374\n",
      "Epoch 10/10\n",
      "38361/38361 [==============================] - 9s 231us/step - loss: 0.4433 - acc: 0.7315 - val_loss: 0.4539 - val_acc: 0.7374\n",
      "Total time taken to train the Training model is 92.45210385322571\n",
      "Saved model to disk\n"
     ]
    }
   ],
   "source": [
    "#cnn1d_1 = multi_gpu_model(cnn1d_1, gpus=8)\n",
    "cnn1d_1.compile(loss=\"binary_crossentropy\", optimizer=\"adam\",metrics=['accuracy'])\n",
    "# train\n",
    "start_time = time.time()\n",
    "history = cnn1d_1.fit(X_train, Y_train, batch_size=64, validation_data=(X_test1, Y_test1) ,epochs=10)\n",
    "end_time = time.time() \n",
    "print(\"Total time taken to train the Training model is\", (end_time - start_time))\n",
    "# serialize model to JSON\n",
    "model_json = cnn1d_1.to_json()\n",
    "with open(\"20170827_mawilab_flow_000.json\", \"w\") as json_file:\n",
    "    json_file.write(model_json)\n",
    "# serialize weights to HDF5\n",
    "cnn1d_1.save_weights(\"20170827_mawilab_flow_000.h5\")\n",
    "print(\"Saved model to disk\")\n",
    "plt.plot(history.history['acc'])\n",
    "plt.plot(history.history['val_acc'])\n",
    "plt.title('model accuracy')\n",
    "plt.ylabel('accuracy')\n",
    "plt.xlabel('epoch')\n",
    "plt.legend(['train', 'test'], loc='upper left')\n",
    "plt.show()\n",
    "plt.savefig('Acc_Valaccuaracy00_01.png')"
   ]
  },
  {
   "cell_type": "code",
   "execution_count": 25,
   "metadata": {
    "collapsed": false
   },
   "outputs": [
    {
     "name": "stdout",
     "output_type": "stream",
     "text": [
      "[[0.00307279 0.99702686]\n",
      " [0.06667804 0.9339693 ]\n",
      " [0.46960118 0.53060585]\n",
      " ...\n",
      " [0.51257503 0.48915505]\n",
      " [0.18943013 0.809674  ]\n",
      " [0.1998455  0.799925  ]]\n",
      "[1 1 1 ... 0 1 1]\n",
      "[1 1 1 ... 0 1 1]\n",
      "             precision    recall  f1-score   support\n",
      "\n",
      "     normal     0.5770    0.3397    0.4276     11774\n",
      "    anomaly     0.7703    0.8989    0.8297     29006\n",
      "\n",
      "avg / total     0.7145    0.7374    0.7136     40780\n",
      "\n",
      "[[ 4000  7774]\n",
      " [ 2933 26073]]\n",
      "0.6286487703732528\n",
      "0.7374448258950466\n",
      "0.7135839232184279\n",
      "[0.4276474  0.82965014]\n"
     ]
    }
   ],
   "source": [
    "from sklearn.metrics import classification_report, confusion_matrix\n",
    "from sklearn.metrics import f1_score\n",
    "y_pred = cnn1d_1.predict(X_test1)\n",
    "print(y_pred)\n",
    "y_pred = np.argmax(y_pred, axis=1)\n",
    "print(y_pred)\n",
    "\n",
    "y_pred = cnn1d_1.predict_classes(X_test1)\n",
    "print(y_pred)\n",
    "\n",
    "p=cnn1d_1.predict_proba(X_test1)\n",
    "\n",
    "target_names = ['normal', 'anomaly']\n",
    "print(classification_report(np.argmax(Y_test1, axis=1), y_pred, target_names=target_names, digits=4))\n",
    "print(confusion_matrix(np.argmax(Y_test1, axis=1), y_pred))\n",
    "\n",
    "\n",
    "print(f1_score(np.argmax(Y_test1, axis=1), y_pred, average='macro'))\n",
    "\n",
    "print(f1_score(np.argmax(Y_test1, axis=1), y_pred, average='micro'))\n",
    "\n",
    "print(f1_score(np.argmax(Y_test1, axis=1), y_pred, average='weighted'))\n",
    "\n",
    "print(f1_score(np.argmax(Y_test1, axis=1), y_pred, average=None))"
   ]
  }
 ],
 "metadata": {
  "anaconda-cloud": {},
  "kernelspec": {
   "display_name": "Python [conda env:tensorflow-cpu]",
   "language": "python",
   "name": "conda-env-tensorflow-cpu-py"
  },
  "language_info": {
   "codemirror_mode": {
    "name": "ipython",
    "version": 3
   },
   "file_extension": ".py",
   "mimetype": "text/x-python",
   "name": "python",
   "nbconvert_exporter": "python",
   "pygments_lexer": "ipython3",
   "version": "3.5.4"
  }
 },
 "nbformat": 4,
 "nbformat_minor": 1
}
